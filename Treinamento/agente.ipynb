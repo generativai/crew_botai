{
 "cells": [
  {
   "cell_type": "markdown",
   "metadata": {},
   "source": [
    "# Configurações iniciais"
   ]
  },
  {
   "cell_type": "code",
   "execution_count": 130,
   "metadata": {},
   "outputs": [],
   "source": [
    "import os\n",
    "from crewai import Agent, Task, Crew, Process\n",
    "from crewai_tools import CSVSearchTool\n",
    "from crewai_tools import TXTSearchTool\n",
    "from dotenv import load_dotenv\n",
    "from langchain_openai import ChatOpenAI\n",
    "from datetime import datetime\n",
    "import re\n",
    "import pandas as pd\n",
    "import psycopg2\n",
    "\n",
    "# Definir os parâmetros de conexão com o PostgreSQL\n",
    "usuario = 'postgres'\n",
    "senha = '87a9f05e0b51d376b83d582111c280da'\n",
    "host = '147.79.110.26'  # Endereço do servidor do banco\n",
    "porta = '5432'           # Porta padrão do PostgreSQL\n",
    "banco_de_dados = 'botai_dev'\n",
    "# client = OpenAI(api_key=\"sk-dGwU-tTvhnrFog5R78lzLlP5FjaOOlWsz_Qbb4CdgoT3BlbkFJ_iRd_S5W91m7pOY9i8oT_E8wHZwgK2EiqMROjF0iIA\")\n",
    "\n",
    "load_dotenv()\n",
    "\n",
    "OPEN_AI_KEY = os.getenv(\"OPEN_AI_KEY\")\n",
    "\n",
    "csv_folder = r\"Treinamento/ChatHistory/byData/024509451509359969@g.us\""
   ]
  },
  {
   "cell_type": "markdown",
   "metadata": {},
   "source": [
    "## Métodos para carregar tabelas"
   ]
  },
  {
   "cell_type": "code",
   "execution_count": 2,
   "metadata": {},
   "outputs": [],
   "source": [
    "# Função para criar um DataFrame a partir de uma tabela do banco de dados\n",
    "def carregar_tabela_postgresql(nome_tabela):\n",
    "    try:\n",
    "        # Estabelecendo conexão com o banco de dados\n",
    "        conn = psycopg2.connect(\n",
    "            dbname=banco_de_dados,\n",
    "            user=usuario,\n",
    "            password=senha,\n",
    "            host=host,\n",
    "            port=porta\n",
    "        )\n",
    "        \n",
    "        # Query para selecionar todos os dados da tabela desejada\n",
    "        query = f\"SELECT * FROM {nome_tabela};\"\n",
    "        \n",
    "        # Lendo os dados diretamente no DataFrame\n",
    "        df = pd.read_sql_query(query, conn)\n",
    "        \n",
    "        # Fechando a conexão\n",
    "        conn.close()\n",
    "        \n",
    "        return df\n",
    "    \n",
    "    except Exception as e:\n",
    "        print(f\"Erro ao conectar ao banco de dados: {e}\")\n",
    "        return None\n",
    "\n",
    "## Função para criar um DataFrame a partir de uma tabela do banco de dados, permitindo parametrizar a condição WHERE\n",
    "def carregar_tabela_com_where(nome_tabela, where_condition):\n",
    "    try:\n",
    "        # Estabelecendo conexão com o banco de dados\n",
    "        conn = psycopg2.connect(\n",
    "            dbname=banco_de_dados,\n",
    "            user=usuario,\n",
    "            password=senha,\n",
    "            host=host,\n",
    "            port=porta\n",
    "        )\n",
    "        \n",
    "        # Query para selecionar os dados da tabela desejada com a condição WHERE\n",
    "        query = f\"SELECT * FROM {nome_tabela} WHERE {where_condition};\"\n",
    "        \n",
    "        # Lendo os dados diretamente no DataFrame\n",
    "        df = pd.read_sql_query(query, conn)\n",
    "        \n",
    "        # Fechando a conexão\n",
    "        conn.close()\n",
    "        \n",
    "        return df\n",
    "    \n",
    "    except Exception as e:\n",
    "        print(f\"Erro ao conectar ao banco de dados: {e}\")\n",
    "        return None\n"
   ]
  },
  {
   "cell_type": "markdown",
   "metadata": {},
   "source": [
    "## Carregando dados"
   ]
  },
  {
   "cell_type": "code",
   "execution_count": 3,
   "metadata": {},
   "outputs": [
    {
     "name": "stderr",
     "output_type": "stream",
     "text": [
      "/tmp/ipykernel_1851117/3732391048.py:44: UserWarning: pandas only supports SQLAlchemy connectable (engine/connection) or database string URI or sqlite3 DBAPI2 connection. Other DBAPI2 objects are not tested. Please consider using SQLAlchemy.\n",
      "  df = pd.read_sql_query(query, conn)\n",
      "/tmp/ipykernel_1851117/3732391048.py:17: UserWarning: pandas only supports SQLAlchemy connectable (engine/connection) or database string URI or sqlite3 DBAPI2 connection. Other DBAPI2 objects are not tested. Please consider using SQLAlchemy.\n",
      "  df = pd.read_sql_query(query, conn)\n"
     ]
    },
    {
     "data": {
      "text/plain": [
       "(62, 23)"
      ]
     },
     "execution_count": 3,
     "metadata": {},
     "output_type": "execute_result"
    }
   ],
   "source": [
    "chat_history = carregar_tabela_com_where(\"chat_history_t\",\"created_at::date = (CURRENT_DATE - INTERVAL '3 day')\") #Coreto = 1 day\n",
    "people = carregar_tabela_postgresql(\"people\")\n",
    "groups = carregar_tabela_postgresql(\"groups\")\n",
    "packages = carregar_tabela_postgresql(\"packages\")\n",
    "departments = carregar_tabela_postgresql(\"departments\")\n",
    "\n",
    "chat_history.shape"
   ]
  },
  {
   "cell_type": "markdown",
   "metadata": {},
   "source": [
    "## Unindo gupos e pacotes"
   ]
  },
  {
   "cell_type": "code",
   "execution_count": 4,
   "metadata": {},
   "outputs": [
    {
     "data": {
      "text/html": [
       "<div>\n",
       "<style scoped>\n",
       "    .dataframe tbody tr th:only-of-type {\n",
       "        vertical-align: middle;\n",
       "    }\n",
       "\n",
       "    .dataframe tbody tr th {\n",
       "        vertical-align: top;\n",
       "    }\n",
       "\n",
       "    .dataframe thead th {\n",
       "        text-align: right;\n",
       "    }\n",
       "</style>\n",
       "<table border=\"1\" class=\"dataframe\">\n",
       "  <thead>\n",
       "    <tr style=\"text-align: right;\">\n",
       "      <th></th>\n",
       "      <th>group_id</th>\n",
       "      <th>group_jid</th>\n",
       "      <th>group_name</th>\n",
       "      <th>package_id</th>\n",
       "      <th>project_id</th>\n",
       "      <th>group_description</th>\n",
       "      <th>group_created</th>\n",
       "    </tr>\n",
       "  </thead>\n",
       "  <tbody>\n",
       "    <tr>\n",
       "      <th>2</th>\n",
       "      <td>4</td>\n",
       "      <td>171622593129764632@g.us</td>\n",
       "      <td>Plinio-Vibefortech</td>\n",
       "      <td>2</td>\n",
       "      <td>2</td>\n",
       "      <td>None</td>\n",
       "      <td>2024-10-04 02:25:11.187973</td>\n",
       "    </tr>\n",
       "  </tbody>\n",
       "</table>\n",
       "</div>"
      ],
      "text/plain": [
       "   group_id                group_jid          group_name  package_id  \\\n",
       "2         4  171622593129764632@g.us  Plinio-Vibefortech           2   \n",
       "\n",
       "   project_id group_description              group_created  \n",
       "2           2              None 2024-10-04 02:25:11.187973  "
      ]
     },
     "execution_count": 4,
     "metadata": {},
     "output_type": "execute_result"
    }
   ],
   "source": [
    "groups = groups.rename(columns={'description': 'group_description', 'created_at': 'group_created'})\n",
    "cols = ['group_id','group_jid', 'group_name', 'package_id', 'project_id', 'group_description', 'group_created']\n",
    "groups = groups[cols]\n",
    "\n",
    "groups.sample()"
   ]
  },
  {
   "cell_type": "code",
   "execution_count": 5,
   "metadata": {},
   "outputs": [
    {
     "data": {
      "text/html": [
       "<div>\n",
       "<style scoped>\n",
       "    .dataframe tbody tr th:only-of-type {\n",
       "        vertical-align: middle;\n",
       "    }\n",
       "\n",
       "    .dataframe tbody tr th {\n",
       "        vertical-align: top;\n",
       "    }\n",
       "\n",
       "    .dataframe thead th {\n",
       "        text-align: right;\n",
       "    }\n",
       "</style>\n",
       "<table border=\"1\" class=\"dataframe\">\n",
       "  <thead>\n",
       "    <tr style=\"text-align: right;\">\n",
       "      <th></th>\n",
       "      <th>package_id</th>\n",
       "      <th>package_name</th>\n",
       "    </tr>\n",
       "  </thead>\n",
       "  <tbody>\n",
       "    <tr>\n",
       "      <th>0</th>\n",
       "      <td>1</td>\n",
       "      <td>Pacote Especial</td>\n",
       "    </tr>\n",
       "  </tbody>\n",
       "</table>\n",
       "</div>"
      ],
      "text/plain": [
       "   package_id     package_name\n",
       "0           1  Pacote Especial"
      ]
     },
     "execution_count": 5,
     "metadata": {},
     "output_type": "execute_result"
    }
   ],
   "source": [
    "packages = packages.rename(columns={'description': 'package_description'})\n",
    "cols = ['package_id', 'package_name']\n",
    "packages = packages[cols]\n",
    "packages.sample()"
   ]
  },
  {
   "cell_type": "code",
   "execution_count": 6,
   "metadata": {},
   "outputs": [
    {
     "data": {
      "text/plain": [
       "(12, 7)"
      ]
     },
     "execution_count": 6,
     "metadata": {},
     "output_type": "execute_result"
    }
   ],
   "source": [
    "groups.shape"
   ]
  },
  {
   "cell_type": "code",
   "execution_count": 7,
   "metadata": {},
   "outputs": [
    {
     "data": {
      "text/html": [
       "<div>\n",
       "<style scoped>\n",
       "    .dataframe tbody tr th:only-of-type {\n",
       "        vertical-align: middle;\n",
       "    }\n",
       "\n",
       "    .dataframe tbody tr th {\n",
       "        vertical-align: top;\n",
       "    }\n",
       "\n",
       "    .dataframe thead th {\n",
       "        text-align: right;\n",
       "    }\n",
       "</style>\n",
       "<table border=\"1\" class=\"dataframe\">\n",
       "  <thead>\n",
       "    <tr style=\"text-align: right;\">\n",
       "      <th></th>\n",
       "      <th>group_id</th>\n",
       "      <th>group_jid</th>\n",
       "      <th>group_name</th>\n",
       "      <th>package_id</th>\n",
       "      <th>project_id</th>\n",
       "      <th>group_description</th>\n",
       "      <th>group_created</th>\n",
       "      <th>package_name</th>\n",
       "    </tr>\n",
       "  </thead>\n",
       "  <tbody>\n",
       "    <tr>\n",
       "      <th>0</th>\n",
       "      <td>2</td>\n",
       "      <td>024509451509359969@g.us</td>\n",
       "      <td>Maiara-Mayavant</td>\n",
       "      <td>2</td>\n",
       "      <td>2</td>\n",
       "      <td>None</td>\n",
       "      <td>2024-10-04 02:25:11.187973</td>\n",
       "      <td>Pacote Global Dois Em Um</td>\n",
       "    </tr>\n",
       "    <tr>\n",
       "      <th>1</th>\n",
       "      <td>3</td>\n",
       "      <td>025587043275878954@g.us</td>\n",
       "      <td>EduardoeNicolas-MulherdaWeb</td>\n",
       "      <td>1</td>\n",
       "      <td>2</td>\n",
       "      <td>None</td>\n",
       "      <td>2024-10-04 02:25:11.187973</td>\n",
       "      <td>Pacote Especial</td>\n",
       "    </tr>\n",
       "    <tr>\n",
       "      <th>2</th>\n",
       "      <td>4</td>\n",
       "      <td>171622593129764632@g.us</td>\n",
       "      <td>Plinio-Vibefortech</td>\n",
       "      <td>2</td>\n",
       "      <td>2</td>\n",
       "      <td>None</td>\n",
       "      <td>2024-10-04 02:25:11.187973</td>\n",
       "      <td>Pacote Global Dois Em Um</td>\n",
       "    </tr>\n",
       "    <tr>\n",
       "      <th>3</th>\n",
       "      <td>5</td>\n",
       "      <td>176569235456585413@g.us</td>\n",
       "      <td>SamueleLeonardo-Linqtec</td>\n",
       "      <td>1</td>\n",
       "      <td>2</td>\n",
       "      <td>None</td>\n",
       "      <td>2024-10-04 02:25:11.187973</td>\n",
       "      <td>Pacote Especial</td>\n",
       "    </tr>\n",
       "    <tr>\n",
       "      <th>4</th>\n",
       "      <td>6</td>\n",
       "      <td>220191283813053475@g.us</td>\n",
       "      <td>Dr.MuriloeMurilo-Dynathlete</td>\n",
       "      <td>2</td>\n",
       "      <td>2</td>\n",
       "      <td>None</td>\n",
       "      <td>2024-10-04 02:25:11.187973</td>\n",
       "      <td>Pacote Global Dois Em Um</td>\n",
       "    </tr>\n",
       "    <tr>\n",
       "      <th>5</th>\n",
       "      <td>7</td>\n",
       "      <td>319892153194284268@g.us</td>\n",
       "      <td>Pedro-StoreForKids</td>\n",
       "      <td>1</td>\n",
       "      <td>2</td>\n",
       "      <td>None</td>\n",
       "      <td>2024-10-04 02:25:11.187973</td>\n",
       "      <td>Pacote Especial</td>\n",
       "    </tr>\n",
       "    <tr>\n",
       "      <th>6</th>\n",
       "      <td>8</td>\n",
       "      <td>370613401684902859@g.us</td>\n",
       "      <td>MarianaeRita-ExpressodoAconchego</td>\n",
       "      <td>1</td>\n",
       "      <td>2</td>\n",
       "      <td>None</td>\n",
       "      <td>2024-10-04 02:25:11.187973</td>\n",
       "      <td>Pacote Especial</td>\n",
       "    </tr>\n",
       "    <tr>\n",
       "      <th>7</th>\n",
       "      <td>9</td>\n",
       "      <td>436283272096070764@g.us</td>\n",
       "      <td>TâniaeThaissa-TajuvanHouse</td>\n",
       "      <td>1</td>\n",
       "      <td>2</td>\n",
       "      <td>None</td>\n",
       "      <td>2024-10-04 02:25:11.187973</td>\n",
       "      <td>Pacote Especial</td>\n",
       "    </tr>\n",
       "    <tr>\n",
       "      <th>8</th>\n",
       "      <td>10</td>\n",
       "      <td>765321137722616028@g.us</td>\n",
       "      <td>Nitiel-Apertto</td>\n",
       "      <td>2</td>\n",
       "      <td>2</td>\n",
       "      <td>None</td>\n",
       "      <td>2024-10-04 02:25:11.187973</td>\n",
       "      <td>Pacote Global Dois Em Um</td>\n",
       "    </tr>\n",
       "    <tr>\n",
       "      <th>9</th>\n",
       "      <td>11</td>\n",
       "      <td>960751260776592837@g.us</td>\n",
       "      <td>Tiago-AkkiShop</td>\n",
       "      <td>2</td>\n",
       "      <td>2</td>\n",
       "      <td>None</td>\n",
       "      <td>2024-10-04 02:25:11.187973</td>\n",
       "      <td>Pacote Global Dois Em Um</td>\n",
       "    </tr>\n",
       "    <tr>\n",
       "      <th>10</th>\n",
       "      <td>12</td>\n",
       "      <td>120363326967634240@g.us</td>\n",
       "      <td>Nome do projeto</td>\n",
       "      <td>1</td>\n",
       "      <td>12</td>\n",
       "      <td>Descrição do grupo</td>\n",
       "      <td>2024-10-04 12:48:25.160881</td>\n",
       "      <td>Pacote Especial</td>\n",
       "    </tr>\n",
       "    <tr>\n",
       "      <th>11</th>\n",
       "      <td>1</td>\n",
       "      <td>120363344860217470@g.us</td>\n",
       "      <td>Grupo 02</td>\n",
       "      <td>1</td>\n",
       "      <td>1</td>\n",
       "      <td>Descrição do grupo</td>\n",
       "      <td>2024-10-03 23:07:30.903304</td>\n",
       "      <td>Pacote Especial</td>\n",
       "    </tr>\n",
       "  </tbody>\n",
       "</table>\n",
       "</div>"
      ],
      "text/plain": [
       "    group_id                group_jid                        group_name  \\\n",
       "0          2  024509451509359969@g.us                   Maiara-Mayavant   \n",
       "1          3  025587043275878954@g.us       EduardoeNicolas-MulherdaWeb   \n",
       "2          4  171622593129764632@g.us                Plinio-Vibefortech   \n",
       "3          5  176569235456585413@g.us           SamueleLeonardo-Linqtec   \n",
       "4          6  220191283813053475@g.us       Dr.MuriloeMurilo-Dynathlete   \n",
       "5          7  319892153194284268@g.us                Pedro-StoreForKids   \n",
       "6          8  370613401684902859@g.us  MarianaeRita-ExpressodoAconchego   \n",
       "7          9  436283272096070764@g.us        TâniaeThaissa-TajuvanHouse   \n",
       "8         10  765321137722616028@g.us                    Nitiel-Apertto   \n",
       "9         11  960751260776592837@g.us                    Tiago-AkkiShop   \n",
       "10        12  120363326967634240@g.us                   Nome do projeto   \n",
       "11         1  120363344860217470@g.us                          Grupo 02   \n",
       "\n",
       "    package_id  project_id   group_description              group_created  \\\n",
       "0            2           2                None 2024-10-04 02:25:11.187973   \n",
       "1            1           2                None 2024-10-04 02:25:11.187973   \n",
       "2            2           2                None 2024-10-04 02:25:11.187973   \n",
       "3            1           2                None 2024-10-04 02:25:11.187973   \n",
       "4            2           2                None 2024-10-04 02:25:11.187973   \n",
       "5            1           2                None 2024-10-04 02:25:11.187973   \n",
       "6            1           2                None 2024-10-04 02:25:11.187973   \n",
       "7            1           2                None 2024-10-04 02:25:11.187973   \n",
       "8            2           2                None 2024-10-04 02:25:11.187973   \n",
       "9            2           2                None 2024-10-04 02:25:11.187973   \n",
       "10           1          12  Descrição do grupo 2024-10-04 12:48:25.160881   \n",
       "11           1           1  Descrição do grupo 2024-10-03 23:07:30.903304   \n",
       "\n",
       "                package_name  \n",
       "0   Pacote Global Dois Em Um  \n",
       "1            Pacote Especial  \n",
       "2   Pacote Global Dois Em Um  \n",
       "3            Pacote Especial  \n",
       "4   Pacote Global Dois Em Um  \n",
       "5            Pacote Especial  \n",
       "6            Pacote Especial  \n",
       "7            Pacote Especial  \n",
       "8   Pacote Global Dois Em Um  \n",
       "9   Pacote Global Dois Em Um  \n",
       "10           Pacote Especial  \n",
       "11           Pacote Especial  "
      ]
     },
     "execution_count": 7,
     "metadata": {},
     "output_type": "execute_result"
    }
   ],
   "source": [
    "grupos_pacotes = pd.merge(groups, packages, on='package_id', how='left')\n",
    "grupos_pacotes"
   ]
  },
  {
   "cell_type": "markdown",
   "metadata": {},
   "source": [
    "## Unindo pessoas, departamentos e histórico"
   ]
  },
  {
   "cell_type": "code",
   "execution_count": 8,
   "metadata": {},
   "outputs": [
    {
     "data": {
      "text/html": [
       "<div>\n",
       "<style scoped>\n",
       "    .dataframe tbody tr th:only-of-type {\n",
       "        vertical-align: middle;\n",
       "    }\n",
       "\n",
       "    .dataframe tbody tr th {\n",
       "        vertical-align: top;\n",
       "    }\n",
       "\n",
       "    .dataframe thead th {\n",
       "        text-align: right;\n",
       "    }\n",
       "</style>\n",
       "<table border=\"1\" class=\"dataframe\">\n",
       "  <thead>\n",
       "    <tr style=\"text-align: right;\">\n",
       "      <th></th>\n",
       "      <th>person_id</th>\n",
       "      <th>remote_jid</th>\n",
       "      <th>person_name</th>\n",
       "      <th>nickname</th>\n",
       "      <th>status</th>\n",
       "      <th>department_id</th>\n",
       "      <th>is_client</th>\n",
       "      <th>description</th>\n",
       "      <th>created_at</th>\n",
       "      <th>updated_at</th>\n",
       "    </tr>\n",
       "  </thead>\n",
       "  <tbody>\n",
       "    <tr>\n",
       "      <th>15</th>\n",
       "      <td>2009</td>\n",
       "      <td>5511960845692</td>\n",
       "      <td>Cliente 11960845692</td>\n",
       "      <td>None</td>\n",
       "      <td>ativo</td>\n",
       "      <td>NaN</td>\n",
       "      <td>True</td>\n",
       "      <td>None</td>\n",
       "      <td>2024-10-04 02:54:55.428971</td>\n",
       "      <td>2024-10-04 02:54:55.428971</td>\n",
       "    </tr>\n",
       "  </tbody>\n",
       "</table>\n",
       "</div>"
      ],
      "text/plain": [
       "    person_id     remote_jid          person_name nickname status  \\\n",
       "15       2009  5511960845692  Cliente 11960845692     None  ativo   \n",
       "\n",
       "    department_id  is_client description                 created_at  \\\n",
       "15            NaN       True        None 2024-10-04 02:54:55.428971   \n",
       "\n",
       "                   updated_at  \n",
       "15 2024-10-04 02:54:55.428971  "
      ]
     },
     "execution_count": 8,
     "metadata": {},
     "output_type": "execute_result"
    }
   ],
   "source": [
    "people.sample()"
   ]
  },
  {
   "cell_type": "code",
   "execution_count": 9,
   "metadata": {},
   "outputs": [
    {
     "data": {
      "text/html": [
       "<div>\n",
       "<style scoped>\n",
       "    .dataframe tbody tr th:only-of-type {\n",
       "        vertical-align: middle;\n",
       "    }\n",
       "\n",
       "    .dataframe tbody tr th {\n",
       "        vertical-align: top;\n",
       "    }\n",
       "\n",
       "    .dataframe thead th {\n",
       "        text-align: right;\n",
       "    }\n",
       "</style>\n",
       "<table border=\"1\" class=\"dataframe\">\n",
       "  <thead>\n",
       "    <tr style=\"text-align: right;\">\n",
       "      <th></th>\n",
       "      <th>remote_jid</th>\n",
       "      <th>person_name</th>\n",
       "      <th>nickname</th>\n",
       "      <th>department_id</th>\n",
       "      <th>is_client</th>\n",
       "    </tr>\n",
       "  </thead>\n",
       "  <tbody>\n",
       "    <tr>\n",
       "      <th>30</th>\n",
       "      <td>5567962177849</td>\n",
       "      <td>Veronica Goodds Teste</td>\n",
       "      <td>Veronica</td>\n",
       "      <td>3.0</td>\n",
       "      <td>False</td>\n",
       "    </tr>\n",
       "  </tbody>\n",
       "</table>\n",
       "</div>"
      ],
      "text/plain": [
       "       remote_jid            person_name  nickname  department_id  is_client\n",
       "30  5567962177849  Veronica Goodds Teste  Veronica            3.0      False"
      ]
     },
     "execution_count": 9,
     "metadata": {},
     "output_type": "execute_result"
    }
   ],
   "source": [
    "# people = people.rename(columns={'description': 'package_description'})\n",
    "cols = ['remote_jid', 'person_name','nickname','department_id','is_client']\n",
    "people = people[cols]\n",
    "people.sample()"
   ]
  },
  {
   "cell_type": "code",
   "execution_count": 10,
   "metadata": {},
   "outputs": [
    {
     "data": {
      "text/html": [
       "<div>\n",
       "<style scoped>\n",
       "    .dataframe tbody tr th:only-of-type {\n",
       "        vertical-align: middle;\n",
       "    }\n",
       "\n",
       "    .dataframe tbody tr th {\n",
       "        vertical-align: top;\n",
       "    }\n",
       "\n",
       "    .dataframe thead th {\n",
       "        text-align: right;\n",
       "    }\n",
       "</style>\n",
       "<table border=\"1\" class=\"dataframe\">\n",
       "  <thead>\n",
       "    <tr style=\"text-align: right;\">\n",
       "      <th></th>\n",
       "      <th>department_id</th>\n",
       "      <th>department_name</th>\n",
       "      <th>status</th>\n",
       "      <th>description</th>\n",
       "      <th>created_at</th>\n",
       "      <th>updated_at</th>\n",
       "    </tr>\n",
       "  </thead>\n",
       "  <tbody>\n",
       "    <tr>\n",
       "      <th>1</th>\n",
       "      <td>2</td>\n",
       "      <td>Marketing</td>\n",
       "      <td>None</td>\n",
       "      <td>Departamento responsável pelas estratégias de ...</td>\n",
       "      <td>2024-10-03 12:57:49.363868</td>\n",
       "      <td>2024-10-03 12:57:49.363868</td>\n",
       "    </tr>\n",
       "  </tbody>\n",
       "</table>\n",
       "</div>"
      ],
      "text/plain": [
       "   department_id department_name status  \\\n",
       "1              2       Marketing   None   \n",
       "\n",
       "                                         description  \\\n",
       "1  Departamento responsável pelas estratégias de ...   \n",
       "\n",
       "                  created_at                 updated_at  \n",
       "1 2024-10-03 12:57:49.363868 2024-10-03 12:57:49.363868  "
      ]
     },
     "execution_count": 10,
     "metadata": {},
     "output_type": "execute_result"
    }
   ],
   "source": [
    "departments.sample()"
   ]
  },
  {
   "cell_type": "code",
   "execution_count": 11,
   "metadata": {},
   "outputs": [
    {
     "data": {
      "text/html": [
       "<div>\n",
       "<style scoped>\n",
       "    .dataframe tbody tr th:only-of-type {\n",
       "        vertical-align: middle;\n",
       "    }\n",
       "\n",
       "    .dataframe tbody tr th {\n",
       "        vertical-align: top;\n",
       "    }\n",
       "\n",
       "    .dataframe thead th {\n",
       "        text-align: right;\n",
       "    }\n",
       "</style>\n",
       "<table border=\"1\" class=\"dataframe\">\n",
       "  <thead>\n",
       "    <tr style=\"text-align: right;\">\n",
       "      <th></th>\n",
       "      <th>department_id</th>\n",
       "      <th>department_name</th>\n",
       "      <th>department_description</th>\n",
       "    </tr>\n",
       "  </thead>\n",
       "  <tbody>\n",
       "    <tr>\n",
       "      <th>0</th>\n",
       "      <td>1</td>\n",
       "      <td>Desenvolvimento</td>\n",
       "      <td>Departamento responsável pelo desenvolvimento ...</td>\n",
       "    </tr>\n",
       "  </tbody>\n",
       "</table>\n",
       "</div>"
      ],
      "text/plain": [
       "   department_id  department_name  \\\n",
       "0              1  Desenvolvimento   \n",
       "\n",
       "                              department_description  \n",
       "0  Departamento responsável pelo desenvolvimento ...  "
      ]
     },
     "execution_count": 11,
     "metadata": {},
     "output_type": "execute_result"
    }
   ],
   "source": [
    "departments = departments.rename(columns={'description': 'department_description'})\n",
    "cols = ['department_id', 'department_name','department_description']\n",
    "departments = departments[cols]\n",
    "departments.sample()"
   ]
  },
  {
   "cell_type": "code",
   "execution_count": 12,
   "metadata": {},
   "outputs": [
    {
     "name": "stdout",
     "output_type": "stream",
     "text": [
      "(32, 5)\n",
      "(4, 3)\n"
     ]
    }
   ],
   "source": [
    "print(people.shape)\n",
    "print(departments.shape)"
   ]
  },
  {
   "cell_type": "code",
   "execution_count": 13,
   "metadata": {},
   "outputs": [
    {
     "data": {
      "text/html": [
       "<div>\n",
       "<style scoped>\n",
       "    .dataframe tbody tr th:only-of-type {\n",
       "        vertical-align: middle;\n",
       "    }\n",
       "\n",
       "    .dataframe tbody tr th {\n",
       "        vertical-align: top;\n",
       "    }\n",
       "\n",
       "    .dataframe thead th {\n",
       "        text-align: right;\n",
       "    }\n",
       "</style>\n",
       "<table border=\"1\" class=\"dataframe\">\n",
       "  <thead>\n",
       "    <tr style=\"text-align: right;\">\n",
       "      <th></th>\n",
       "      <th>remote_jid</th>\n",
       "      <th>person_name</th>\n",
       "      <th>nickname</th>\n",
       "      <th>department_id</th>\n",
       "      <th>is_client</th>\n",
       "      <th>department_name</th>\n",
       "      <th>department_description</th>\n",
       "    </tr>\n",
       "  </thead>\n",
       "  <tbody>\n",
       "    <tr>\n",
       "      <th>4</th>\n",
       "      <td>553183135034</td>\n",
       "      <td>Cliente 3183135034</td>\n",
       "      <td>None</td>\n",
       "      <td>NaN</td>\n",
       "      <td>True</td>\n",
       "      <td>NaN</td>\n",
       "      <td>NaN</td>\n",
       "    </tr>\n",
       "  </tbody>\n",
       "</table>\n",
       "</div>"
      ],
      "text/plain": [
       "     remote_jid         person_name nickname  department_id  is_client  \\\n",
       "4  553183135034  Cliente 3183135034     None            NaN       True   \n",
       "\n",
       "  department_name department_description  \n",
       "4             NaN                    NaN  "
      ]
     },
     "execution_count": 13,
     "metadata": {},
     "output_type": "execute_result"
    }
   ],
   "source": [
    "person_dep = pd.merge(people, departments, on='department_id', how='left')\n",
    "person_dep.sample()"
   ]
  },
  {
   "cell_type": "code",
   "execution_count": 14,
   "metadata": {},
   "outputs": [
    {
     "name": "stdout",
     "output_type": "stream",
     "text": [
      "(32, 7)\n"
     ]
    }
   ],
   "source": [
    "print(person_dep.shape)"
   ]
  },
  {
   "cell_type": "code",
   "execution_count": 15,
   "metadata": {},
   "outputs": [
    {
     "data": {
      "text/html": [
       "<div>\n",
       "<style scoped>\n",
       "    .dataframe tbody tr th:only-of-type {\n",
       "        vertical-align: middle;\n",
       "    }\n",
       "\n",
       "    .dataframe tbody tr th {\n",
       "        vertical-align: top;\n",
       "    }\n",
       "\n",
       "    .dataframe thead th {\n",
       "        text-align: right;\n",
       "    }\n",
       "</style>\n",
       "<table border=\"1\" class=\"dataframe\">\n",
       "  <thead>\n",
       "    <tr style=\"text-align: right;\">\n",
       "      <th></th>\n",
       "      <th>remote_jid</th>\n",
       "      <th>person_name</th>\n",
       "      <th>nickname</th>\n",
       "      <th>is_client</th>\n",
       "      <th>department_name</th>\n",
       "    </tr>\n",
       "  </thead>\n",
       "  <tbody>\n",
       "    <tr>\n",
       "      <th>28</th>\n",
       "      <td>5587936169444</td>\n",
       "      <td>Stephano Goodds Teste</td>\n",
       "      <td>Stephano</td>\n",
       "      <td>False</td>\n",
       "      <td>Desenvolvimento</td>\n",
       "    </tr>\n",
       "  </tbody>\n",
       "</table>\n",
       "</div>"
      ],
      "text/plain": [
       "       remote_jid            person_name  nickname  is_client  department_name\n",
       "28  5587936169444  Stephano Goodds Teste  Stephano      False  Desenvolvimento"
      ]
     },
     "execution_count": 15,
     "metadata": {},
     "output_type": "execute_result"
    }
   ],
   "source": [
    "cols = ['remote_jid', 'person_name','nickname','is_client','department_name']\n",
    "person_dep = person_dep[cols]\n",
    "person_dep.sample()"
   ]
  },
  {
   "cell_type": "code",
   "execution_count": 16,
   "metadata": {},
   "outputs": [
    {
     "data": {
      "text/html": [
       "<div>\n",
       "<style scoped>\n",
       "    .dataframe tbody tr th:only-of-type {\n",
       "        vertical-align: middle;\n",
       "    }\n",
       "\n",
       "    .dataframe tbody tr th {\n",
       "        vertical-align: top;\n",
       "    }\n",
       "\n",
       "    .dataframe thead th {\n",
       "        text-align: right;\n",
       "    }\n",
       "</style>\n",
       "<table border=\"1\" class=\"dataframe\">\n",
       "  <thead>\n",
       "    <tr style=\"text-align: right;\">\n",
       "      <th></th>\n",
       "      <th>remote_jid</th>\n",
       "      <th>person_name</th>\n",
       "      <th>nickname</th>\n",
       "      <th>is_client</th>\n",
       "      <th>department_name</th>\n",
       "    </tr>\n",
       "  </thead>\n",
       "  <tbody>\n",
       "    <tr>\n",
       "      <th>22</th>\n",
       "      <td>5518919879626</td>\n",
       "      <td>Giovana Goodds Teste</td>\n",
       "      <td>Giovana</td>\n",
       "      <td>False</td>\n",
       "      <td>Relacionamento</td>\n",
       "    </tr>\n",
       "  </tbody>\n",
       "</table>\n",
       "</div>"
      ],
      "text/plain": [
       "       remote_jid           person_name nickname  is_client department_name\n",
       "22  5518919879626  Giovana Goodds Teste  Giovana      False  Relacionamento"
      ]
     },
     "execution_count": 16,
     "metadata": {},
     "output_type": "execute_result"
    }
   ],
   "source": [
    "person_dep[person_dep['remote_jid']=='5518919879626']"
   ]
  },
  {
   "cell_type": "code",
   "execution_count": 17,
   "metadata": {},
   "outputs": [
    {
     "data": {
      "text/html": [
       "<div>\n",
       "<style scoped>\n",
       "    .dataframe tbody tr th:only-of-type {\n",
       "        vertical-align: middle;\n",
       "    }\n",
       "\n",
       "    .dataframe tbody tr th {\n",
       "        vertical-align: top;\n",
       "    }\n",
       "\n",
       "    .dataframe thead th {\n",
       "        text-align: right;\n",
       "    }\n",
       "</style>\n",
       "<table border=\"1\" class=\"dataframe\">\n",
       "  <thead>\n",
       "    <tr style=\"text-align: right;\">\n",
       "      <th></th>\n",
       "      <th>message_id</th>\n",
       "      <th>event</th>\n",
       "      <th>instance</th>\n",
       "      <th>receiver</th>\n",
       "      <th>groupJid</th>\n",
       "      <th>sender_id</th>\n",
       "      <th>from_me</th>\n",
       "      <th>push_name</th>\n",
       "      <th>message_type</th>\n",
       "      <th>message_content</th>\n",
       "      <th>...</th>\n",
       "      <th>latitude</th>\n",
       "      <th>longitude</th>\n",
       "      <th>sequence_number</th>\n",
       "      <th>display_name</th>\n",
       "      <th>vcard</th>\n",
       "      <th>poll_data</th>\n",
       "      <th>source</th>\n",
       "      <th>reaction_message_id</th>\n",
       "      <th>quoted_message</th>\n",
       "      <th>created_at</th>\n",
       "    </tr>\n",
       "  </thead>\n",
       "  <tbody>\n",
       "    <tr>\n",
       "      <th>23</th>\n",
       "      <td>3761ef81-1fce-4d96-9add-a88e39418940</td>\n",
       "      <td>messages.upsert</td>\n",
       "      <td>BotAI</td>\n",
       "      <td>5522992848074</td>\n",
       "      <td>025587043275878954@g.us</td>\n",
       "      <td>554191930514</td>\n",
       "      <td>None</td>\n",
       "      <td>Cliente 4191930514</td>\n",
       "      <td>texto</td>\n",
       "      <td>Procura*</td>\n",
       "      <td>...</td>\n",
       "      <td>None</td>\n",
       "      <td>None</td>\n",
       "      <td>None</td>\n",
       "      <td>None</td>\n",
       "      <td>None</td>\n",
       "      <td>None</td>\n",
       "      <td>None</td>\n",
       "      <td>None</td>\n",
       "      <td>None</td>\n",
       "      <td>2024-10-03 17:02:00</td>\n",
       "    </tr>\n",
       "  </tbody>\n",
       "</table>\n",
       "<p>1 rows × 23 columns</p>\n",
       "</div>"
      ],
      "text/plain": [
       "                              message_id            event instance  \\\n",
       "23  3761ef81-1fce-4d96-9add-a88e39418940  messages.upsert    BotAI   \n",
       "\n",
       "         receiver                 groupJid     sender_id from_me  \\\n",
       "23  5522992848074  025587043275878954@g.us  554191930514    None   \n",
       "\n",
       "             push_name message_type message_content  ... latitude longitude  \\\n",
       "23  Cliente 4191930514        texto        Procura*  ...     None      None   \n",
       "\n",
       "   sequence_number display_name vcard poll_data source reaction_message_id  \\\n",
       "23            None         None  None      None   None                None   \n",
       "\n",
       "   quoted_message          created_at  \n",
       "23           None 2024-10-03 17:02:00  \n",
       "\n",
       "[1 rows x 23 columns]"
      ]
     },
     "execution_count": 17,
     "metadata": {},
     "output_type": "execute_result"
    }
   ],
   "source": [
    "chat_history.sample()"
   ]
  },
  {
   "cell_type": "markdown",
   "metadata": {},
   "source": [
    "## Unindo chat_history a grupos e pessoas"
   ]
  },
  {
   "cell_type": "code",
   "execution_count": 18,
   "metadata": {},
   "outputs": [
    {
     "data": {
      "text/plain": [
       "(62, 23)"
      ]
     },
     "execution_count": 18,
     "metadata": {},
     "output_type": "execute_result"
    }
   ],
   "source": [
    "chat_history.shape"
   ]
  },
  {
   "cell_type": "code",
   "execution_count": 19,
   "metadata": {},
   "outputs": [
    {
     "data": {
      "text/plain": [
       "(32, 5)"
      ]
     },
     "execution_count": 19,
     "metadata": {},
     "output_type": "execute_result"
    }
   ],
   "source": [
    "person_dep.shape"
   ]
  },
  {
   "cell_type": "code",
   "execution_count": 20,
   "metadata": {},
   "outputs": [
    {
     "data": {
      "text/plain": [
       "(62, 28)"
      ]
     },
     "execution_count": 20,
     "metadata": {},
     "output_type": "execute_result"
    }
   ],
   "source": [
    "# Exemplo: realizar o merge entre chat_history e person_dep usando as colunas específicas\n",
    "chat_history = pd.merge(\n",
    "    chat_history,\n",
    "    person_dep,\n",
    "    left_on='sender_id',  # Coluna do DataFrame chat_history\n",
    "    right_on='remote_jid',  # Coluna do DataFrame person_dep\n",
    "    how='left'  # Tipo de merge\n",
    ")\n",
    "\n",
    "chat_history.shape"
   ]
  },
  {
   "cell_type": "code",
   "execution_count": 21,
   "metadata": {},
   "outputs": [
    {
     "data": {
      "text/html": [
       "<div>\n",
       "<style scoped>\n",
       "    .dataframe tbody tr th:only-of-type {\n",
       "        vertical-align: middle;\n",
       "    }\n",
       "\n",
       "    .dataframe tbody tr th {\n",
       "        vertical-align: top;\n",
       "    }\n",
       "\n",
       "    .dataframe thead th {\n",
       "        text-align: right;\n",
       "    }\n",
       "</style>\n",
       "<table border=\"1\" class=\"dataframe\">\n",
       "  <thead>\n",
       "    <tr style=\"text-align: right;\">\n",
       "      <th></th>\n",
       "      <th>message_id</th>\n",
       "      <th>event</th>\n",
       "      <th>instance</th>\n",
       "      <th>receiver</th>\n",
       "      <th>groupJid</th>\n",
       "      <th>sender_id</th>\n",
       "      <th>from_me</th>\n",
       "      <th>push_name</th>\n",
       "      <th>message_type</th>\n",
       "      <th>message_content</th>\n",
       "      <th>...</th>\n",
       "      <th>poll_data</th>\n",
       "      <th>source</th>\n",
       "      <th>reaction_message_id</th>\n",
       "      <th>quoted_message</th>\n",
       "      <th>created_at</th>\n",
       "      <th>remote_jid</th>\n",
       "      <th>person_name</th>\n",
       "      <th>nickname</th>\n",
       "      <th>is_client</th>\n",
       "      <th>department_name</th>\n",
       "    </tr>\n",
       "  </thead>\n",
       "  <tbody>\n",
       "    <tr>\n",
       "      <th>10</th>\n",
       "      <td>445fc0ec-0ee5-4ae5-ab41-7ad3a38663e0</td>\n",
       "      <td>messages.upsert</td>\n",
       "      <td>BotAI</td>\n",
       "      <td>5522992848074</td>\n",
       "      <td>025587043275878954@g.us</td>\n",
       "      <td>5558980748460</td>\n",
       "      <td>None</td>\n",
       "      <td>Luiza Goodds - Central de atendimento</td>\n",
       "      <td>áudio</td>\n",
       "      <td>‎PTT-20240130-WA0090.mp3</td>\n",
       "      <td>...</td>\n",
       "      <td>None</td>\n",
       "      <td>None</td>\n",
       "      <td>None</td>\n",
       "      <td>None</td>\n",
       "      <td>2024-10-03 16:48:00</td>\n",
       "      <td>5558980748460</td>\n",
       "      <td>Luiza Goodds - Central de atendimento Teste</td>\n",
       "      <td>Luiza</td>\n",
       "      <td>False</td>\n",
       "      <td>Relacionamento</td>\n",
       "    </tr>\n",
       "  </tbody>\n",
       "</table>\n",
       "<p>1 rows × 28 columns</p>\n",
       "</div>"
      ],
      "text/plain": [
       "                              message_id            event instance  \\\n",
       "10  445fc0ec-0ee5-4ae5-ab41-7ad3a38663e0  messages.upsert    BotAI   \n",
       "\n",
       "         receiver                 groupJid      sender_id from_me  \\\n",
       "10  5522992848074  025587043275878954@g.us  5558980748460    None   \n",
       "\n",
       "                                push_name message_type  \\\n",
       "10  Luiza Goodds - Central de atendimento        áudio   \n",
       "\n",
       "             message_content  ... poll_data source reaction_message_id  \\\n",
       "10  ‎PTT-20240130-WA0090.mp3  ...      None   None                None   \n",
       "\n",
       "   quoted_message          created_at     remote_jid  \\\n",
       "10           None 2024-10-03 16:48:00  5558980748460   \n",
       "\n",
       "                                    person_name nickname is_client  \\\n",
       "10  Luiza Goodds - Central de atendimento Teste    Luiza     False   \n",
       "\n",
       "   department_name  \n",
       "10  Relacionamento  \n",
       "\n",
       "[1 rows x 28 columns]"
      ]
     },
     "execution_count": 21,
     "metadata": {},
     "output_type": "execute_result"
    }
   ],
   "source": [
    "chat_history.sample()"
   ]
  },
  {
   "cell_type": "code",
   "execution_count": 22,
   "metadata": {},
   "outputs": [
    {
     "data": {
      "text/plain": [
       "(62, 36)"
      ]
     },
     "execution_count": 22,
     "metadata": {},
     "output_type": "execute_result"
    }
   ],
   "source": [
    "# Exemplo: realizar o merge entre chat_history e person_dep usando as colunas específicas\n",
    "chat_groups_history = pd.merge(\n",
    "    chat_history,\n",
    "    grupos_pacotes,\n",
    "    left_on='groupJid',  # Coluna do DataFrame chat_history\n",
    "    right_on='group_jid',  # Coluna do DataFrame person_dep\n",
    "    how='left'  # Tipo de merge\n",
    ")\n",
    "\n",
    "chat_groups_history.shape"
   ]
  },
  {
   "cell_type": "code",
   "execution_count": 23,
   "metadata": {},
   "outputs": [
    {
     "data": {
      "text/html": [
       "<div>\n",
       "<style scoped>\n",
       "    .dataframe tbody tr th:only-of-type {\n",
       "        vertical-align: middle;\n",
       "    }\n",
       "\n",
       "    .dataframe tbody tr th {\n",
       "        vertical-align: top;\n",
       "    }\n",
       "\n",
       "    .dataframe thead th {\n",
       "        text-align: right;\n",
       "    }\n",
       "</style>\n",
       "<table border=\"1\" class=\"dataframe\">\n",
       "  <thead>\n",
       "    <tr style=\"text-align: right;\">\n",
       "      <th></th>\n",
       "      <th>message_id</th>\n",
       "      <th>event</th>\n",
       "      <th>instance</th>\n",
       "      <th>receiver</th>\n",
       "      <th>groupJid</th>\n",
       "      <th>sender_id</th>\n",
       "      <th>from_me</th>\n",
       "      <th>push_name</th>\n",
       "      <th>message_type</th>\n",
       "      <th>message_content</th>\n",
       "      <th>...</th>\n",
       "      <th>is_client</th>\n",
       "      <th>department_name</th>\n",
       "      <th>group_id</th>\n",
       "      <th>group_jid</th>\n",
       "      <th>group_name</th>\n",
       "      <th>package_id</th>\n",
       "      <th>project_id</th>\n",
       "      <th>group_description</th>\n",
       "      <th>group_created</th>\n",
       "      <th>package_name</th>\n",
       "    </tr>\n",
       "  </thead>\n",
       "  <tbody>\n",
       "    <tr>\n",
       "      <th>21</th>\n",
       "      <td>2cd22555-467c-421b-bcc9-a4e63bd948ec</td>\n",
       "      <td>messages.upsert</td>\n",
       "      <td>BotAI</td>\n",
       "      <td>5522992848074</td>\n",
       "      <td>025587043275878954@g.us</td>\n",
       "      <td>554191930514</td>\n",
       "      <td>None</td>\n",
       "      <td>Cliente 4191930514</td>\n",
       "      <td>texto</td>\n",
       "      <td>Estudamos o mercado</td>\n",
       "      <td>...</td>\n",
       "      <td>True</td>\n",
       "      <td>NaN</td>\n",
       "      <td>3</td>\n",
       "      <td>025587043275878954@g.us</td>\n",
       "      <td>EduardoeNicolas-MulherdaWeb</td>\n",
       "      <td>1</td>\n",
       "      <td>2</td>\n",
       "      <td>None</td>\n",
       "      <td>2024-10-04 02:25:11.187973</td>\n",
       "      <td>Pacote Especial</td>\n",
       "    </tr>\n",
       "  </tbody>\n",
       "</table>\n",
       "<p>1 rows × 36 columns</p>\n",
       "</div>"
      ],
      "text/plain": [
       "                              message_id            event instance  \\\n",
       "21  2cd22555-467c-421b-bcc9-a4e63bd948ec  messages.upsert    BotAI   \n",
       "\n",
       "         receiver                 groupJid     sender_id from_me  \\\n",
       "21  5522992848074  025587043275878954@g.us  554191930514    None   \n",
       "\n",
       "             push_name message_type      message_content  ... is_client  \\\n",
       "21  Cliente 4191930514        texto  Estudamos o mercado  ...      True   \n",
       "\n",
       "   department_name group_id                group_jid  \\\n",
       "21             NaN        3  025587043275878954@g.us   \n",
       "\n",
       "                     group_name package_id project_id group_description  \\\n",
       "21  EduardoeNicolas-MulherdaWeb          1          2              None   \n",
       "\n",
       "                group_created     package_name  \n",
       "21 2024-10-04 02:25:11.187973  Pacote Especial  \n",
       "\n",
       "[1 rows x 36 columns]"
      ]
     },
     "execution_count": 23,
     "metadata": {},
     "output_type": "execute_result"
    }
   ],
   "source": [
    "chat_groups_history.sample()"
   ]
  },
  {
   "cell_type": "code",
   "execution_count": 24,
   "metadata": {},
   "outputs": [
    {
     "data": {
      "text/plain": [
       "Index(['message_id', 'event', 'instance', 'receiver', 'groupJid', 'sender_id',\n",
       "       'from_me', 'push_name', 'message_type', 'message_content', 'media_url',\n",
       "       'base64_data', 'reaction', 'latitude', 'longitude', 'sequence_number',\n",
       "       'display_name', 'vcard', 'poll_data', 'source', 'reaction_message_id',\n",
       "       'quoted_message', 'created_at', 'remote_jid', 'person_name', 'nickname',\n",
       "       'is_client', 'department_name', 'group_id', 'group_jid', 'group_name',\n",
       "       'package_id', 'project_id', 'group_description', 'group_created',\n",
       "       'package_name'],\n",
       "      dtype='object')"
      ]
     },
     "execution_count": 24,
     "metadata": {},
     "output_type": "execute_result"
    }
   ],
   "source": [
    "chat_groups_history.columns"
   ]
  },
  {
   "cell_type": "code",
   "execution_count": 25,
   "metadata": {},
   "outputs": [
    {
     "data": {
      "text/html": [
       "<div>\n",
       "<style scoped>\n",
       "    .dataframe tbody tr th:only-of-type {\n",
       "        vertical-align: middle;\n",
       "    }\n",
       "\n",
       "    .dataframe tbody tr th {\n",
       "        vertical-align: top;\n",
       "    }\n",
       "\n",
       "    .dataframe thead th {\n",
       "        text-align: right;\n",
       "    }\n",
       "</style>\n",
       "<table border=\"1\" class=\"dataframe\">\n",
       "  <thead>\n",
       "    <tr style=\"text-align: right;\">\n",
       "      <th></th>\n",
       "      <th>message_id</th>\n",
       "      <th>event</th>\n",
       "      <th>groupJid</th>\n",
       "      <th>message_type</th>\n",
       "      <th>message_content</th>\n",
       "      <th>media_url</th>\n",
       "      <th>reaction</th>\n",
       "      <th>latitude</th>\n",
       "      <th>longitude</th>\n",
       "      <th>display_name</th>\n",
       "      <th>...</th>\n",
       "      <th>remote_jid</th>\n",
       "      <th>person_name</th>\n",
       "      <th>nickname</th>\n",
       "      <th>is_client</th>\n",
       "      <th>department_name</th>\n",
       "      <th>group_id</th>\n",
       "      <th>group_name</th>\n",
       "      <th>project_id</th>\n",
       "      <th>group_created</th>\n",
       "      <th>package_name</th>\n",
       "    </tr>\n",
       "  </thead>\n",
       "  <tbody>\n",
       "    <tr>\n",
       "      <th>8</th>\n",
       "      <td>29fce13a-89f7-4774-a69c-82611c68dd65</td>\n",
       "      <td>messages.upsert</td>\n",
       "      <td>025587043275878954@g.us</td>\n",
       "      <td>texto</td>\n",
       "      <td>Prazer Giovanna, sou do administrativo da Goodds.</td>\n",
       "      <td>None</td>\n",
       "      <td>None</td>\n",
       "      <td>None</td>\n",
       "      <td>None</td>\n",
       "      <td>None</td>\n",
       "      <td>...</td>\n",
       "      <td>5518919879626</td>\n",
       "      <td>Giovana Goodds Teste</td>\n",
       "      <td>Giovana</td>\n",
       "      <td>False</td>\n",
       "      <td>Relacionamento</td>\n",
       "      <td>3</td>\n",
       "      <td>EduardoeNicolas-MulherdaWeb</td>\n",
       "      <td>2</td>\n",
       "      <td>2024-10-04 02:25:11.187973</td>\n",
       "      <td>Pacote Especial</td>\n",
       "    </tr>\n",
       "  </tbody>\n",
       "</table>\n",
       "<p>1 rows × 26 columns</p>\n",
       "</div>"
      ],
      "text/plain": [
       "                             message_id            event  \\\n",
       "8  29fce13a-89f7-4774-a69c-82611c68dd65  messages.upsert   \n",
       "\n",
       "                  groupJid message_type  \\\n",
       "8  025587043275878954@g.us        texto   \n",
       "\n",
       "                                     message_content media_url reaction  \\\n",
       "8  Prazer Giovanna, sou do administrativo da Goodds.      None     None   \n",
       "\n",
       "  latitude longitude display_name  ...     remote_jid           person_name  \\\n",
       "8     None      None         None  ...  5518919879626  Giovana Goodds Teste   \n",
       "\n",
       "  nickname is_client department_name group_id                   group_name  \\\n",
       "8  Giovana     False  Relacionamento        3  EduardoeNicolas-MulherdaWeb   \n",
       "\n",
       "  project_id              group_created     package_name  \n",
       "8          2 2024-10-04 02:25:11.187973  Pacote Especial  \n",
       "\n",
       "[1 rows x 26 columns]"
      ]
     },
     "execution_count": 25,
     "metadata": {},
     "output_type": "execute_result"
    }
   ],
   "source": [
    "# Definir as colunas que você deseja remover\n",
    "colunas_a_remover = ['instance', 'receiver', 'sender_id','push_name','base64_data','sequence_number','group_jid','package_id','group_description','from_me']\n",
    "\n",
    "# Remover as colunas do DataFrame\n",
    "chat_groups_history = chat_groups_history.drop(columns=colunas_a_remover)\n",
    "\n",
    "# Exibir um sample do DataFrame atualizado\n",
    "chat_groups_history.sample()"
   ]
  },
  {
   "cell_type": "markdown",
   "metadata": {},
   "source": [
    "## Separando os grupos"
   ]
  },
  {
   "cell_type": "code",
   "execution_count": 26,
   "metadata": {},
   "outputs": [
    {
     "data": {
      "text/plain": [
       "Index(['message_id', 'event', 'groupJid', 'message_type', 'message_content',\n",
       "       'media_url', 'reaction', 'latitude', 'longitude', 'display_name',\n",
       "       'vcard', 'poll_data', 'source', 'reaction_message_id', 'quoted_message',\n",
       "       'created_at', 'remote_jid', 'person_name', 'nickname', 'is_client',\n",
       "       'department_name', 'group_id', 'group_name', 'project_id',\n",
       "       'group_created', 'package_name'],\n",
       "      dtype='object')"
      ]
     },
     "execution_count": 26,
     "metadata": {},
     "output_type": "execute_result"
    }
   ],
   "source": [
    "chat_groups_history.columns"
   ]
  },
  {
   "cell_type": "code",
   "execution_count": 27,
   "metadata": {},
   "outputs": [
    {
     "name": "stdout",
     "output_type": "stream",
     "text": [
      "024509451509359969@g.us\n",
      "025587043275878954@g.us\n"
     ]
    },
    {
     "data": {
      "text/plain": [
       "(55, 26)"
      ]
     },
     "execution_count": 27,
     "metadata": {},
     "output_type": "execute_result"
    }
   ],
   "source": [
    "dfs_groupJid = {}\n",
    "\n",
    "#  Obter todos os valores únicos na coluna groupJid\n",
    "grupos = chat_groups_history['groupJid'].unique()\n",
    "\n",
    "# Para cada valor único, filtrar o DataFrame e armazenar em um novo DataFrame\n",
    "for g in grupos:\n",
    "    df_grupos = chat_groups_history[chat_groups_history['groupJid'] == g]\n",
    "    dfs_groupJid[g] = df_grupos\n",
    "    print(g)\n",
    "\n",
    "dfs_groupJid['025587043275878954@g.us'].shape"
   ]
  },
  {
   "cell_type": "code",
   "execution_count": 28,
   "metadata": {},
   "outputs": [
    {
     "data": {
      "text/plain": [
       "Index(['message_id', 'event', 'groupJid', 'message_type', 'message_content',\n",
       "       'media_url', 'reaction', 'latitude', 'longitude', 'display_name',\n",
       "       'vcard', 'poll_data', 'source', 'reaction_message_id', 'quoted_message',\n",
       "       'created_at', 'remote_jid', 'person_name', 'nickname', 'is_client',\n",
       "       'department_name', 'group_id', 'group_name', 'project_id',\n",
       "       'group_created', 'package_name'],\n",
       "      dtype='object')"
      ]
     },
     "execution_count": 28,
     "metadata": {},
     "output_type": "execute_result"
    }
   ],
   "source": [
    "dfs_groupJid['025587043275878954@g.us'].columns"
   ]
  },
  {
   "cell_type": "code",
   "execution_count": 29,
   "metadata": {},
   "outputs": [
    {
     "data": {
      "text/plain": [
       "(55, 26)"
      ]
     },
     "execution_count": 29,
     "metadata": {},
     "output_type": "execute_result"
    }
   ],
   "source": [
    "dfs_groupJid['025587043275878954@g.us'].shape"
   ]
  },
  {
   "cell_type": "code",
   "execution_count": 86,
   "metadata": {},
   "outputs": [
    {
     "name": "stdout",
     "output_type": "stream",
     "text": [
      "O diretório 'conversas' já existe.\n",
      "DataFrame salvo em conversas/output.txt\n"
     ]
    }
   ],
   "source": [
    "# Define o caminho do diretório que você deseja criar\n",
    "directory_path = 'conversas'\n",
    "\n",
    "# Cria o diretório se ele não existir\n",
    "if not os.path.exists(directory_path):\n",
    "    os.makedirs(directory_path)\n",
    "    print(f\"Diretório '{directory_path}' criado.\")\n",
    "else:\n",
    "    print(f\"O diretório '{directory_path}' já existe.\")\n",
    "\n",
    "# Supondo que dfs_groupJid seja o seu DataFrame\n",
    "file_name = 'output.txt'  # Nome do arquivo\n",
    "file_path = os.path.join(directory_path, file_name)  # Caminho completo para o arquivo\n",
    "\n",
    "# Transformando o DataFrame em um arquivo TXT\n",
    "dfs_groupJid['025587043275878954@g.us'].to_csv(file_path, sep='\\t', index=False)\n",
    "\n",
    "print(f\"DataFrame salvo em {file_path}\")\n"
   ]
  },
  {
   "cell_type": "code",
   "execution_count": 87,
   "metadata": {},
   "outputs": [
    {
     "name": "stdout",
     "output_type": "stream",
     "text": [
      "3\n",
      "025587043275878954@g.us\n",
      "EduardoeNicolas-MulherdaWeb\n",
      "Pacote Especial\n"
     ]
    }
   ],
   "source": [
    "# Obter valores \n",
    "group_id = dfs_groupJid['025587043275878954@g.us']['group_id'].unique().tolist()\n",
    "group_id = group_id[0]\n",
    "\n",
    "group_jid = dfs_groupJid['025587043275878954@g.us']['groupJid'].unique().tolist()\n",
    "group_jid = group_jid[0]\n",
    "\n",
    "group_name = dfs_groupJid['025587043275878954@g.us']['group_name'].unique().tolist()\n",
    "group = group_name[0]\n",
    "\n",
    "package_name = dfs_groupJid['025587043275878954@g.us']['package_name'].unique().tolist()\n",
    "package = package_name[0]\n",
    "\n",
    "# stage_id = dfs_groupJid['025587043275878954@g.us']['stage_id'].unique().tolist()\n",
    "# stage = stage_id[0]\n",
    "\n",
    "print(group_id)\n",
    "print(group_jid)\n",
    "print(group)\n",
    "print(package)\n",
    "# print(stage)"
   ]
  },
  {
   "cell_type": "markdown",
   "metadata": {},
   "source": [
    "# Gerando relatórios de um grupo"
   ]
  },
  {
   "cell_type": "code",
   "execution_count": 88,
   "metadata": {},
   "outputs": [],
   "source": [
    "# # Diretório onde os arquivos CSV estão localizados\n",
    "# csv_folder = r\"ChatHistory/byData\"\n",
    "\n",
    "# # Listar todos os arquivos CSV na pasta\n",
    "# arquivos = [f for f in os.listdir(csv_folder) if f.endswith('.csv')]\n",
    "\n",
    "# # Criar uma função para extrair a data do nome do arquivo\n",
    "# def extrair_data(arquivo):\n",
    "#     # Usar uma expressão regular para encontrar a data no formato YYYY-MM-DD\n",
    "#     match = re.search(r'_(\\d{4}-\\d{2}-\\d{2})\\.csv$', arquivo)\n",
    "#     return match.group(1) if match else None\n",
    "\n",
    "# # Criar uma lista de tuplas (data, arquivo) para ordenar\n",
    "# dados_ordenados = [(extrair_data(arquivo), arquivo) for arquivo in arquivos]\n",
    "\n",
    "# # Filtrar apenas arquivos válidos (com data extraída)\n",
    "# dados_ordenados = [dado for dado in dados_ordenados if dado[0] is not None]\n",
    "\n",
    "# # Ordenar pela data\n",
    "# dados_ordenados.sort(key=lambda x: x[0])  # Ordena pelo primeiro item da tupla (data)\n",
    "\n",
    "# # Exibir os arquivos ordenados\n",
    "# for data, arquivo in dados_ordenados:\n",
    "#     print(arquivo)\n"
   ]
  },
  {
   "cell_type": "code",
   "execution_count": 89,
   "metadata": {},
   "outputs": [],
   "source": [
    "# df = pd.read_csv('ChatHistory/024509451509359969@g.us.csv')\n",
    "\n",
    "# df.sample()\n",
    "# df.columns"
   ]
  },
  {
   "cell_type": "code",
   "execution_count": 90,
   "metadata": {},
   "outputs": [],
   "source": [
    "# group_id = df['group_id'].unique().tolist()"
   ]
  },
  {
   "cell_type": "code",
   "execution_count": 91,
   "metadata": {},
   "outputs": [],
   "source": [
    "# # Obter valores \n",
    "# group_id = df['group_id'].unique().tolist()\n",
    "# group_id = group_id[0]\n",
    "\n",
    "# group_jid = df['groupJid'].unique().tolist()\n",
    "# group_jid = group_jid[0]\n",
    "\n",
    "# group_name = df['group_name'].unique().tolist()\n",
    "# group = group_name[0]\n",
    "\n",
    "# package_name = df['package_name'].unique().tolist()\n",
    "# package = package_name[0]\n",
    "\n",
    "# stage_id = df['stage_id'].unique().tolist()\n",
    "# stage = stage_id[0]\n",
    "\n",
    "# print(group_id)\n",
    "# print(group_jid)\n",
    "# print(group)\n",
    "# print(package)\n",
    "# print(stage)"
   ]
  },
  {
   "cell_type": "code",
   "execution_count": 92,
   "metadata": {},
   "outputs": [],
   "source": [
    "# #obter participantes\n",
    "# df_people = carregar_tabela_postgresql('people')\n",
    "# df_people_groups = carregar_tabela_postgresql('people_groups')\n",
    "# df_people_groups = df_people_groups[df_people_groups['group_id'] == group_id]\n",
    "# df_people_groups\n",
    "\n",
    "# df_people = pd.merge(df_people, df_people_groups, left_on='person_id', right_on='person_id', how='inner')\n",
    "\n",
    "# # Definir as colunas que você deseja remover\n",
    "# colunas_a_remover = ['person_id', 'status','created_at','updated_at','people_groups_id', 'group_id']\n",
    "\n",
    "# # Remover as colunas do DataFrame\n",
    "# df_people = df_people.drop(columns=colunas_a_remover)\n",
    "\n",
    "# # Exibir o DataFrame unido\n",
    "# df_people.sample()\n",
    "# df_people"
   ]
  },
  {
   "cell_type": "code",
   "execution_count": 93,
   "metadata": {},
   "outputs": [],
   "source": [
    "# df_people.dtypes"
   ]
  },
  {
   "cell_type": "code",
   "execution_count": 94,
   "metadata": {},
   "outputs": [],
   "source": [
    "# df.sample()"
   ]
  },
  {
   "cell_type": "code",
   "execution_count": 95,
   "metadata": {},
   "outputs": [],
   "source": [
    "# df.shape"
   ]
  },
  {
   "cell_type": "code",
   "execution_count": 96,
   "metadata": {},
   "outputs": [],
   "source": [
    "# df.dtypes\n",
    "# df['sender_id'] = df['sender_id'].astype(str)\n",
    "# df.dtypes"
   ]
  },
  {
   "cell_type": "markdown",
   "metadata": {},
   "source": [
    "## Unindo tabela projetos"
   ]
  },
  {
   "cell_type": "code",
   "execution_count": 97,
   "metadata": {},
   "outputs": [],
   "source": [
    "# # df = pd.merge(df_people, df, left_on='sender_id', right_on='remote_jid', how='inner')\n",
    "# df = pd.merge(df_people, df, left_on='remote_jid', right_on='sender_id', how='inner')\n",
    "# df.shape"
   ]
  },
  {
   "cell_type": "code",
   "execution_count": 98,
   "metadata": {},
   "outputs": [],
   "source": [
    "# df.columns"
   ]
  },
  {
   "cell_type": "code",
   "execution_count": 99,
   "metadata": {},
   "outputs": [],
   "source": [
    "# # Definir as colunas que você deseja remover\n",
    "# colunas_a_remover = ['project_updated_at', 'closed_at', 'grupo_created_at', 'group_id','package_id_x','package_id_y']\n",
    "\n",
    "# # Remover as colunas do DataFrame\n",
    "# df = df.drop(columns=colunas_a_remover)"
   ]
  },
  {
   "cell_type": "code",
   "execution_count": 100,
   "metadata": {},
   "outputs": [],
   "source": [
    "# df.sample()\n"
   ]
  },
  {
   "cell_type": "code",
   "execution_count": 101,
   "metadata": {},
   "outputs": [],
   "source": [
    "# project_created_at = df['project_created_at'].unique().tolist()\n",
    "# project_created_at"
   ]
  },
  {
   "cell_type": "code",
   "execution_count": 102,
   "metadata": {},
   "outputs": [],
   "source": [
    "# data = df['data'].unique().tolist()\n",
    "# data"
   ]
  },
  {
   "cell_type": "code",
   "execution_count": 103,
   "metadata": {},
   "outputs": [],
   "source": [
    "# # Carrega relatórios anteriores\n",
    "# relatorios_antigo = carregar_tabela_com_where('reports', f'group_id={group_id}')\n",
    "# relatorios_antigo"
   ]
  },
  {
   "cell_type": "code",
   "execution_count": 104,
   "metadata": {},
   "outputs": [],
   "source": [
    "# df.to_csv('convertido.csv',index=False)"
   ]
  },
  {
   "cell_type": "markdown",
   "metadata": {},
   "source": [
    "# Os agentes"
   ]
  },
  {
   "cell_type": "code",
   "execution_count": 105,
   "metadata": {},
   "outputs": [
    {
     "name": "stderr",
     "output_type": "stream",
     "text": [
      "/tmp/ipykernel_1851117/3732391048.py:44: UserWarning: pandas only supports SQLAlchemy connectable (engine/connection) or database string URI or sqlite3 DBAPI2 connection. Other DBAPI2 objects are not tested. Please consider using SQLAlchemy.\n",
      "  df = pd.read_sql_query(query, conn)\n"
     ]
    },
    {
     "data": {
      "text/html": [
       "<div>\n",
       "<style scoped>\n",
       "    .dataframe tbody tr th:only-of-type {\n",
       "        vertical-align: middle;\n",
       "    }\n",
       "\n",
       "    .dataframe tbody tr th {\n",
       "        vertical-align: top;\n",
       "    }\n",
       "\n",
       "    .dataframe thead th {\n",
       "        text-align: right;\n",
       "    }\n",
       "</style>\n",
       "<table border=\"1\" class=\"dataframe\">\n",
       "  <thead>\n",
       "    <tr style=\"text-align: right;\">\n",
       "      <th></th>\n",
       "      <th>report_id</th>\n",
       "      <th>group_id</th>\n",
       "      <th>stage</th>\n",
       "      <th>report_name</th>\n",
       "      <th>type</th>\n",
       "      <th>report_content</th>\n",
       "      <th>created_at</th>\n",
       "      <th>updated_at</th>\n",
       "    </tr>\n",
       "  </thead>\n",
       "  <tbody>\n",
       "  </tbody>\n",
       "</table>\n",
       "</div>"
      ],
      "text/plain": [
       "Empty DataFrame\n",
       "Columns: [report_id, group_id, stage, report_name, type, report_content, created_at, updated_at]\n",
       "Index: []"
      ]
     },
     "execution_count": 105,
     "metadata": {},
     "output_type": "execute_result"
    }
   ],
   "source": [
    "# Carrega relatórios anteriores\n",
    "relatorios_antigo = carregar_tabela_com_where('reports', f'group_id={group_id}')\n",
    "relatorios_antigo"
   ]
  },
  {
   "cell_type": "code",
   "execution_count": 106,
   "metadata": {},
   "outputs": [
    {
     "data": {
      "text/plain": [
       "'<relatorios_anteriores>\\n</relatorios_anteriores>'"
      ]
     },
     "execution_count": 106,
     "metadata": {},
     "output_type": "execute_result"
    }
   ],
   "source": [
    "# Inicializar a string com as tags de abertura e fechamento\n",
    "relatorios_anteriores = \"\"\"<relatorios_anteriores>\n",
    "\"\"\"\n",
    "\n",
    "# Loop para percorrer cada linha do DataFrame relatorios_antigo\n",
    "for index, row in relatorios_antigo.iterrows():\n",
    "    # Converter a linha em uma string no formato desejado e adicionar à string 'relatorios_anteriores'\n",
    "    relatorios_anteriores += f\"{row.to_string(index=False)}\\n\"\n",
    "\n",
    "# Fechar a tag de </relatorios_anteriores>\n",
    "relatorios_anteriores += \"</relatorios_anteriores>\"\n",
    "\n",
    "# Exibir o resultado\n",
    "relatorios_anteriores"
   ]
  },
  {
   "cell_type": "code",
   "execution_count": 107,
   "metadata": {},
   "outputs": [
    {
     "data": {
      "text/plain": [
       "Index(['message_id', 'event', 'groupJid', 'message_type', 'message_content',\n",
       "       'media_url', 'reaction', 'latitude', 'longitude', 'display_name',\n",
       "       'vcard', 'poll_data', 'source', 'reaction_message_id', 'quoted_message',\n",
       "       'created_at', 'remote_jid', 'person_name', 'nickname', 'is_client',\n",
       "       'department_name', 'group_id', 'group_name', 'project_id',\n",
       "       'group_created', 'package_name'],\n",
       "      dtype='object')"
      ]
     },
     "execution_count": 107,
     "metadata": {},
     "output_type": "execute_result"
    }
   ],
   "source": [
    "dfs_groupJid['025587043275878954@g.us'].columns"
   ]
  },
  {
   "cell_type": "code",
   "execution_count": 108,
   "metadata": {},
   "outputs": [
    {
     "name": "stdout",
     "output_type": "stream",
     "text": [
      "2024-10-04\n"
     ]
    }
   ],
   "source": [
    "# Para obter apenas a data como um objeto datetime.date\n",
    "data_inicial = dfs_groupJid['025587043275878954@g.us'].group_created.iloc[0].date()\n",
    "print(data_inicial)\n"
   ]
  },
  {
   "cell_type": "code",
   "execution_count": 109,
   "metadata": {},
   "outputs": [
    {
     "data": {
      "text/plain": [
       "Timestamp('2024-11-15 00:00:00')"
      ]
     },
     "execution_count": 109,
     "metadata": {},
     "output_type": "execute_result"
    }
   ],
   "source": [
    "# Adiciona 30 dias úteis\n",
    "data_final = data_inicial + pd.offsets.BDay(30)\n",
    "data_final"
   ]
  },
  {
   "cell_type": "code",
   "execution_count": 110,
   "metadata": {},
   "outputs": [],
   "source": [
    "etapas = f\"\"\"<etapas>\n",
    "Projeto iniciado em: {data_inicial}\n",
    "Estimativa de término: {data_final}\n",
    "\n",
    "# Etapa 01 - Prazo: 2 dias\n",
    "\n",
    "1. Apresentação do atendimento;\n",
    "2. Envio do cronograma com prazos;\n",
    "3. Definição de nicho:\n",
    "    3.1. indicar o uso de apenas um ou nichos que se relacionem entre si;\n",
    "    2.2. caso cliente não tenha nicho em mente, indicar um.\n",
    "4. Definir nome;\n",
    "5. Registrar dimínio;\n",
    "6. Referências de Criação de Logo;\n",
    "    6.1 Identificar se cliente possui referências;\n",
    "    6.2 Enviar referências;\n",
    "    6.3 Definir paleta de cores;\n",
    "7. Solicitar a equipe de desenvolvimento a criação de logo;\n",
    "8. Solicitar ao cliente credenciais de acesso às plataformas a serem integradas:\n",
    "    Exemplos: aliexpress, appmax, hostinger, facebookt, instagram, yampi, dsers, plataforma de e-comerce;\n",
    "    - caso tenha domínio registrado, acesso à plataforma de registro;\n",
    "\n",
    "# Etapa 02 - Prazo: 2 dias\n",
    "\n",
    "1. Definir Categoria;\n",
    "2. Buscar e/ou informar referências para layout do e-commerce:\n",
    "    - Sugerir um de nossos templates: `https://gifthype.com.br/` e  `https://clothingoficial.com.br/`\n",
    "3. Escolha da plataforma de mineração:\n",
    "    Disponíveis: Dropi, Dslite, Dsers, Printful.\n",
    "4.Solicitar mineração de produtos baseados no segmento e plataforma à equipe de desenvolvimento;\n",
    "\n",
    "# Etapa 03 - Prazo: 6 dias\n",
    "\n",
    "1. Aprovação de logo, caso solicite reajuste: Prazo de 1 dia;\n",
    "2. Envio de produtos minderados - Prazo: 2 dias;\n",
    "3. Envio da precificação padrão utilizada:\n",
    "    - ( Valor do produto minerado + frete ) * Dólar(R$5,60) * 1,8\n",
    "4. Aprovação de produtos;\n",
    "5. Solicitar cadastro de produtos no e-commerce;\n",
    "6. Solicitar criação de loja:\n",
    "    - Requisitos:\n",
    "        - Referência de layout;\n",
    "        - Acessos das contas que serão integradas à loja\n",
    "        - Informações do briefing comercial\n",
    "        - Qualquer outra informação útil que possa agregar na criação do layout\n",
    "7. Solicitar desenvolvimento  de banners:\n",
    "    - Requisitos:\n",
    "        - Link da loja\n",
    "        - Referências para criação dos banners\n",
    "        - Qualquer outra informação útil que possa agregar na criação dos banners\n",
    "\n",
    "# Etapa 04 - Prazo: 1 dia\n",
    "\n",
    "1. Marcar call para apresentar o ecommerce;\n",
    "2. Confirmar call no Google Agenda;\n",
    "3. Definir produtos para campanhas de marketing:\n",
    "    - Caso não exista preferência de produtos pelo cliente, sugerir produtos para as campanhas;\n",
    "    - Solicitar criação de criativos.\n",
    "\n",
    "# Etapa 05 - Prazo: 2 dias após a call\n",
    "\n",
    "1. Transferência da loja para o cliente:\n",
    "    - Loja criada em ambiente de desenvolvimento deve ser transferida para uma conta configurada pelo cliente e ativada pelo mesmo.\n",
    "\n",
    "# Etapa 06 - Prazo: 4 dias úteis\n",
    "\n",
    "1. Aprovação de criativos:\n",
    "    Quando aprovado, informar marketing via \"Monday\" que já pode-se configurar contas de anúncio\n",
    "    - Requisitos:\n",
    "        - Contas de anúncio configuradas\n",
    "\n",
    "# Etapa 07 - Prazo: 4 dias úteis\n",
    "\n",
    "1. Lançar campanhas: \n",
    "    Depois de configurar as contas, o marketing enviará ao cliente um link para que ele adicione a forma de pagamento dos anúncios.\n",
    "2. Relatório de finalização do projeto\n",
    "\n",
    "# Etapa 08 - Dia 18 ao 30 dia \n",
    "\n",
    "1. Acompanhamento e otimização das campanhas, \n",
    "2. Envio de feedback semanal \n",
    "</etapas>\n",
    "\"\"\""
   ]
  },
  {
   "cell_type": "code",
   "execution_count": 111,
   "metadata": {},
   "outputs": [],
   "source": [
    "solicitacoes = f\"\"\"<solicitacoes>\n",
    "1. OBJETIVOS - Analise o histórico de conversas no whatsapp com base em <etapas></etapas> do projeto.\\n\n",
    "2. GAP - Identificação de possíveis GAPs no relacionamento com o cliente.\\n\n",
    "3. METODOLOGIA - Resumir o que ocorreu, analisar sentimentos, identificar gaps, propor scripts e melhorias no atendimento.\\n\n",
    "5. RESULTADOS - Identificar cronograma e cumprimento de prazos, bem como a satisfação do cliente.\\n\n",
    "{etapas}</solicitacoes>\\n\n",
    "\"\"\""
   ]
  },
  {
   "cell_type": "code",
   "execution_count": 112,
   "metadata": {},
   "outputs": [],
   "source": [
    "controles = \"\"\"\n",
    "<controles>\n",
    "NÍVEIS DE CONTROLE:\\n\n",
    "1. Entonação: Formal \n",
    "5. Foco: Você deve responder sempre com foco nos objetivos das <etapas> buscando encontrar GAPs, atingir <metas> e cumprir <prazos>\n",
    "6. Línga: Escreva sempre em português do Brasil, como brasileiros especialistas em gestão de negócios constumam escrever.\n",
    "7. Controle de Sentimento: Neutro. Evite superlativos como: inovador, revolucionário, etc.\n",
    "8. Nível de originalidade: 10, onde 1 é pouco original e 10 é muito original. \n",
    "9. Nível de abstração: 1, onde 1 é muito concreto e 10 é muito abstrato e irreal.\n",
    "10. Tempo Verbal: Escreva no presente.\\n\n",
    "</controles>\\n\n",
    "\"\"\""
   ]
  },
  {
   "cell_type": "code",
   "execution_count": 113,
   "metadata": {},
   "outputs": [],
   "source": [
    "restricoes = \"\"\"<restricoes>\n",
    "O QUE VOCÊ NÃO DEVE FAZER:\\n\n",
    "1. Criar novas informações.\n",
    "2. Oferecer descontos.\n",
    "</restricoes>\\n\n",
    "\"\"\""
   ]
  },
  {
   "cell_type": "code",
   "execution_count": 114,
   "metadata": {},
   "outputs": [],
   "source": [
    "# Modelo de relatório\n",
    "template = \"\"\"<template>\n",
    "Relatório do Grupo: <grupo> - Etapa: <etapa>\\n\n",
    "Dia: <dia>\\n\n",
    "Prazo: <prazo>\n",
    "1. Objetivos: Objetivos da etapa\\n \n",
    "2. Resumo do dia: Um resumo do que houve\\n\n",
    "2. Análise de sentimento: Análise de sentimentos dos <clientes>\\n\n",
    "3. GAPs: Os gaps identificados na relação com cliente, objetivos e etapas do projeto\\n\n",
    "4. Pendências: As pendências do dia e da etapa\\n \n",
    "5. Avaliações: Avaliações sobre o dia e etapa\\n\n",
    "6. Proposta de melhorias\\n\n",
    "</template>\n",
    "\"\"\""
   ]
  },
  {
   "cell_type": "code",
   "execution_count": 115,
   "metadata": {},
   "outputs": [],
   "source": [
    "def save_to_txt(file_name, file):\n",
    "    \"\"\"\n",
    "    Salva as saídas do agente em um arquivo .txt.\n",
    "\n",
    "    Parameters:\n",
    "    file_name (str): O nome do arquivo onde as saídas serão salvas.\n",
    "    goal (str): O objetivo do agente.\n",
    "    backstory (str): A história de fundo do agente.\n",
    "    \"\"\"\n",
    "    with open(file_name, 'w', encoding='utf-8') as f:\n",
    "        f.write(file)  # Grava apenas o objetivo do agente"
   ]
  },
  {
   "cell_type": "code",
   "execution_count": 116,
   "metadata": {},
   "outputs": [],
   "source": [
    "agent_relator_goal = (\n",
    "    \"Ler CSVs com conversas de whatsapp e extrair informações específicas conforme definido nas solicitações em <solicitacoes>. \"\n",
    "    f\"Gerar um relatório de acordo com o modelo especificado em <template>.\\n {solicitacoes} {template}\"\n",
    ")\n",
    "\n",
    "agent_relator_backstory = (\n",
    "    \"Você é um especialista nos processos de atendimento da Goodds. \"\n",
    "    \"Sua missão é analisar as conversas entre a equipe de trabalho e os clientes e extrair informações, \"\n",
    "    \"identificar GAPs, entender o processo e as etapas do projeto, gerar insights, propor ações e  melhorias para alcançar, \"\n",
    "    \"além dos objetivos principais, a satisfação do cliente. \"\n",
    "    \"Sua função é fundamental para avaliar nosso trabalho e otimizar processos. \"\n",
    "    \"Ao responder as solicitações delimitadas por <solicitacoes></solicitacoes>, você deve levar em consideração as \"\n",
    "    \"definições de controle em <controle></controle> e as restrições em <restricoes></restricoes>.\\n\\n\"\n",
    "    f\"{solicitacoes} {restricoes} {controles}\"\n",
    ")\n",
    "\n",
    "# Exibindo os resultados\n",
    "# save_to_txt('agent_relator_goal',agent_relator_goal)\n",
    "save_to_txt('agent_relator_backstory',agent_relator_backstory)"
   ]
  },
  {
   "cell_type": "code",
   "execution_count": 117,
   "metadata": {},
   "outputs": [],
   "source": [
    "def create_agent_relator(llm, tool):\n",
    "    return Agent(\n",
    "        role=\"Relator de conversas\",\n",
    "        goal=agent_relator_goal,\n",
    "        backstory=agent_relator_backstory,\n",
    "        tools=[tool],\n",
    "        verbose=True,\n",
    "        memory=False,\n",
    "        llm=llm\n",
    "    )"
   ]
  },
  {
   "cell_type": "code",
   "execution_count": 118,
   "metadata": {},
   "outputs": [],
   "source": [
    "agent_revisor_goal = (\n",
    "    \"Leia os dados extraídos pelo Agente Relator e verifique se o relatório foi produzido \"\n",
    "    \"de acordo com o template proposto em <template>, com os dados solicitados em <solicitacoes>. \"\n",
    "    \"Compare o relatório produzido pelo agente relator com relatórios anteriores se existirem \"\n",
    "    \"em <relatorios_anteriores> Como resultado do seu trabalho, \"\n",
    "    \"você deve retornar um relatório revisado no mesmo formato do \"\n",
    "    f\"template proposto. {solicitacoes} {template} {relatorios_anteriores}\"\n",
    ")\n",
    "\n",
    "agent_revisor_backstory = (\n",
    "    \"Você é um especialista em revisão de relatórios. \"\n",
    "    \"Sua função é garantir que os dados extraídos reflitam as solicitações definidas em <solicitacoes> \"\n",
    "    \"e estejam formatados de acordo com o template proposto em <template>. \"\n",
    "    \"Sua atenção aos detalhes assegura que os resultados finais sejam precisos \"\n",
    "    f\"conforme as expectativas. {solicitacoes} {template}\"\n",
    ")\n",
    "\n",
    "# Exibindo os resultados\n",
    "# save_to_txt('agent_revisor_goal',agent_revisor_goal)\n",
    "save_to_txt('agent_revisor_backstory',agent_revisor_backstory)"
   ]
  },
  {
   "cell_type": "code",
   "execution_count": 119,
   "metadata": {},
   "outputs": [],
   "source": [
    "def create_agent_revisor(llm):\n",
    "    return Agent(\n",
    "        role=\"Revisor do relatório\",\n",
    "        goal=agent_revisor_goal,\n",
    "        backstory=agent_revisor_backstory,\n",
    "        verbose=True,\n",
    "        memory=False,\n",
    "        llm=llm\n",
    "    )"
   ]
  },
  {
   "cell_type": "code",
   "execution_count": 120,
   "metadata": {},
   "outputs": [],
   "source": [
    "relator_task_description = (\n",
    "    \"Leia o CSV e retorne um relatório com as solicitações definidas em <solicitacoes> \"\n",
    "    \"usando o modelo definido em <template>. \"\n",
    "    f\"{solicitacoes} {template}\"\n",
    ")\n",
    "\n",
    "relator_task_expeted_output = (\n",
    "    \"Relatório com as solicitações definidas em <solicitacoes>\"\n",
    "    \"usando o modelo definido em <template>. \"\n",
    "    f\"{solicitacoes} {template}\"\n",
    ")"
   ]
  },
  {
   "cell_type": "code",
   "execution_count": 121,
   "metadata": {},
   "outputs": [],
   "source": [
    "def relator_task(agent_relator):\n",
    "    return Task(\n",
    "        description=relator_task_description,\n",
    "        expected_output=relator_task_expeted_output,\n",
    "        agent=agent_relator,\n",
    "        output_file='agent_relator.csv'\n",
    "    )"
   ]
  },
  {
   "cell_type": "code",
   "execution_count": 122,
   "metadata": {},
   "outputs": [],
   "source": [
    "revisor_task_description = (\n",
    "    \"Revise o relatório produzido pelo agente revisor para garantir que ele esteja de acordo com o template definido em <template> \" \n",
    "    \" e contenha todas as informações solicitadas em <solicitacoes> \"\n",
    "    f\"{solicitacoes} {template}\"\n",
    ")\n",
    "revisor_task_expeted_output = (\n",
    "    \"Relatório revisado que esteja de acordo com o template definido em <template>\"\n",
    "    \" e contenha todas as informações solicitações em <solicitacoes>\"\n",
    "    f\"{solicitacoes} {template}\"\n",
    ")"
   ]
  },
  {
   "cell_type": "code",
   "execution_count": 123,
   "metadata": {},
   "outputs": [],
   "source": [
    "def revisor_task(agent_revisor):\n",
    "    return Task(\n",
    "        description=relator_task_description,\n",
    "        expected_output=relator_task_expeted_output,\n",
    "        agent=agent_revisor,\n",
    "        output_file='agent_revisor.csv'\n",
    "    )"
   ]
  },
  {
   "cell_type": "code",
   "execution_count": 142,
   "metadata": {},
   "outputs": [],
   "source": [
    "os.environ['OPENAI_API_KEY'] = OPEN_AI_KEY"
   ]
  },
  {
   "cell_type": "code",
   "execution_count": 143,
   "metadata": {},
   "outputs": [],
   "source": [
    "gpt = ChatOpenAI(model=\"gpt-4\")"
   ]
  },
  {
   "cell_type": "code",
   "execution_count": 145,
   "metadata": {},
   "outputs": [
    {
     "name": "stderr",
     "output_type": "stream",
     "text": [
      "2024-10-06 11:53:53,360 - 140663592171328 - posthog.py-posthog:59 - ERROR: Failed to send telemetry event ClientStartEvent: module 'chromadb' has no attribute 'get_settings'\n",
      "2024-10-06 11:53:53,374 - 140663592171328 - posthog.py-posthog:59 - ERROR: Failed to send telemetry event ClientCreateCollectionEvent: module 'chromadb' has no attribute 'get_settings'\n",
      "2024-10-06 11:53:53,381 - 140663592171328 - posthog.py-posthog:59 - ERROR: Failed to send telemetry event ClientCreateCollectionEvent: module 'chromadb' has no attribute 'get_settings'\n",
      "2024-10-06 11:53:53,395 - 140663592171328 - posthog.py-posthog:59 - ERROR: Failed to send telemetry event CollectionGetEvent: module 'chromadb' has no attribute 'get_settings'\n"
     ]
    },
    {
     "name": "stderr",
     "output_type": "stream",
     "text": [
      "2024-10-06 11:53:53,533 - 140663592171328 - posthog.py-posthog:59 - ERROR: Failed to send telemetry event CollectionDeleteEvent: module 'chromadb' has no attribute 'get_settings'\n"
     ]
    },
    {
     "name": "stdout",
     "output_type": "stream",
     "text": [
      "conversas/output.txt\n"
     ]
    },
    {
     "name": "stderr",
     "output_type": "stream",
     "text": [
      "Inserting batches in chromadb: 100%|██████████| 1/1 [00:00<00:00,  1.09it/s]\n"
     ]
    }
   ],
   "source": [
    "# txt = os.path.join(directory_path, txt_file_name)\n",
    "txt = file_path\n",
    "# print(txt_file_name)\n",
    "# print(txt_folder)\n",
    "print(txt)\n",
    "# txt_tool = CSVSearchTool(txt)\n",
    "txt_tool = TXTSearchTool(txt)"
   ]
  },
  {
   "cell_type": "code",
   "execution_count": 146,
   "metadata": {},
   "outputs": [
    {
     "name": "stdout",
     "output_type": "stream",
     "text": [
      "\u001b[1m\u001b[95m# Agent:\u001b[00m \u001b[1m\u001b[92mCSV Reader\u001b[00m\n",
      "\u001b[95m## Task:\u001b[00m \u001b[92mLeia o CSV e retorne um relatório com as solicitações definidas em <solicitacoes> usando o modelo definido em <template>. <solicitacoes>\n",
      "1. OBJETIVOS - Analise o histórico de conversas no whatsapp com base em <etapas></etapas> do projeto.\n",
      "\n",
      "2. GAP - Identificação de possíveis GAPs no relacionamento com o cliente.\n",
      "\n",
      "3. METODOLOGIA - Resumir o que ocorreu, analisar sentimentos, identificar gaps, propor scripts e melhorias no atendimento.\n",
      "\n",
      "5. RESULTADOS - Identificar cronograma e cumprimento de prazos, bem como a satisfação do cliente.\n",
      "\n",
      "<etapas>\n",
      "Projeto iniciado em: 2024-10-04\n",
      "Estimativa de término: 2024-11-15 00:00:00\n",
      "\n",
      "# Etapa 01 - Prazo: 2 dias\n",
      "\n",
      "1. Apresentação do atendimento;\n",
      "2. Envio do cronograma com prazos;\n",
      "3. Definição de nicho:\n",
      "    3.1. indicar o uso de apenas um ou nichos que se relacionem entre si;\n",
      "    2.2. caso cliente não tenha nicho em mente, indicar um.\n",
      "4. Definir nome;\n",
      "5. Registrar dimínio;\n",
      "6. Referências de Criação de Logo;\n",
      "    6.1 Identificar se cliente possui referências;\n",
      "    6.2 Enviar referências;\n",
      "    6.3 Definir paleta de cores;\n",
      "7. Solicitar a equipe de desenvolvimento a criação de logo;\n",
      "8. Solicitar ao cliente credenciais de acesso às plataformas a serem integradas:\n",
      "    Exemplos: aliexpress, appmax, hostinger, facebookt, instagram, yampi, dsers, plataforma de e-comerce;\n",
      "    - caso tenha domínio registrado, acesso à plataforma de registro;\n",
      "\n",
      "# Etapa 02 - Prazo: 2 dias\n",
      "\n",
      "1. Definir Categoria;\n",
      "2. Buscar e/ou informar referências para layout do e-commerce:\n",
      "    - Sugerir um de nossos templates: `https://gifthype.com.br/` e  `https://clothingoficial.com.br/`\n",
      "3. Escolha da plataforma de mineração:\n",
      "    Disponíveis: Dropi, Dslite, Dsers, Printful.\n",
      "4.Solicitar mineração de produtos baseados no segmento e plataforma à equipe de desenvolvimento;\n",
      "\n",
      "# Etapa 03 - Prazo: 6 dias\n",
      "\n",
      "1. Aprovação de logo, caso solicite reajuste: Prazo de 1 dia;\n",
      "2. Envio de produtos minderados - Prazo: 2 dias;\n",
      "3. Envio da precificação padrão utilizada:\n",
      "    - ( Valor do produto minerado + frete ) * Dólar(R$5,60) * 1,8\n",
      "4. Aprovação de produtos;\n",
      "5. Solicitar cadastro de produtos no e-commerce;\n",
      "6. Solicitar criação de loja:\n",
      "    - Requisitos:\n",
      "        - Referência de layout;\n",
      "        - Acessos das contas que serão integradas à loja\n",
      "        - Informações do briefing comercial\n",
      "        - Qualquer outra informação útil que possa agregar na criação do layout\n",
      "7. Solicitar desenvolvimento  de banners:\n",
      "    - Requisitos:\n",
      "        - Link da loja\n",
      "        - Referências para criação dos banners\n",
      "        - Qualquer outra informação útil que possa agregar na criação dos banners\n",
      "\n",
      "# Etapa 04 - Prazo: 1 dia\n",
      "\n",
      "1. Marcar call para apresentar o ecommerce;\n",
      "2. Confirmar call no Google Agenda;\n",
      "3. Definir produtos para campanhas de marketing:\n",
      "    - Caso não exista preferência de produtos pelo cliente, sugerir produtos para as campanhas;\n",
      "    - Solicitar criação de criativos.\n",
      "\n",
      "# Etapa 05 - Prazo: 2 dias após a call\n",
      "\n",
      "1. Transferência da loja para o cliente:\n",
      "    - Loja criada em ambiente de desenvolvimento deve ser transferida para uma conta configurada pelo cliente e ativada pelo mesmo.\n",
      "\n",
      "# Etapa 06 - Prazo: 4 dias úteis\n",
      "\n",
      "1. Aprovação de criativos:\n",
      "    Quando aprovado, informar marketing via \"Monday\" que já pode-se configurar contas de anúncio\n",
      "    - Requisitos:\n",
      "        - Contas de anúncio configuradas\n",
      "\n",
      "# Etapa 07 - Prazo: 4 dias úteis\n",
      "\n",
      "1. Lançar campanhas: \n",
      "    Depois de configurar as contas, o marketing enviará ao cliente um link para que ele adicione a forma de pagamento dos anúncios.\n",
      "2. Relatório de finalização do projeto\n",
      "\n",
      "# Etapa 08 - Dia 18 ao 30 dia \n",
      "\n",
      "1. Acompanhamento e otimização das campanhas, \n",
      "2. Envio de feedback semanal \n",
      "</etapas>\n",
      "</solicitacoes>\n",
      "\n",
      " <template>\n",
      "Relatório do Grupo: <grupo> - Etapa: <etapa>\n",
      "\n",
      "Dia: <dia>\n",
      "\n",
      "Prazo: <prazo>\n",
      "1. Objetivos: Objetivos da etapa\n",
      " \n",
      "2. Resumo do dia: Um resumo do que houve\n",
      "\n",
      "2. Análise de sentimento: Análise de sentimentos dos <clientes>\n",
      "\n",
      "3. GAPs: Os gaps identificados na relação com cliente, objetivos e etapas do projeto\n",
      "\n",
      "4. Pendências: As pendências do dia e da etapa\n",
      " \n",
      "5. Avaliações: Avaliações sobre o dia e etapa\n",
      "\n",
      "6. Proposta de melhorias\n",
      "\n",
      "</template>\n",
      "\u001b[00m\n"
     ]
    },
    {
     "name": "stderr",
     "output_type": "stream",
     "text": [
      "2024-10-06 11:54:35,295 - 140663592171328 - posthog.py-posthog:59 - ERROR: Failed to send telemetry event CollectionQueryEvent: module 'chromadb' has no attribute 'get_settings'\n"
     ]
    },
    {
     "name": "stdout",
     "output_type": "stream",
     "text": [
      "\n",
      "\n",
      "\u001b[1m\u001b[95m# Agent:\u001b[00m \u001b[1m\u001b[92mCSV Reader\u001b[00m\n",
      "\u001b[95m## Thought:\u001b[00m \u001b[92mPrimeiro, preciso analisar o conteúdo do CSV e identificar as informações referentes às etapas do projeto. Como vou buscar essas informações no CSV, usarei a ferramenta \"Search a txt's content\" para identificar as informações relevantes.\u001b[00m\n",
      "\u001b[95m## Using tool:\u001b[00m \u001b[92mSearch a txt's content\u001b[00m\n",
      "\u001b[95m## Tool Input:\u001b[00m \u001b[92m\n",
      "\"{\\\"search_query\\\": \\\"etapas do projeto\\\"}\"\u001b[00m\n",
      "\u001b[95m## Tool Output:\u001b[00m \u001b[92m\n",
      "Relevant Content:\n",
      "Pacote Global Dois Em Um, stage_id: 1, project_name: Maiara-Mayavant, store_name: , domain: , url: , niche: , logo: , mined_urls: , contact_email: , social_media_links: , status: ativo, description_y: , project_created_at: 2024-02-19 02:23:17.387, estimated_deadline:\n",
      "\n",
      "Dois Em Um, stage_id: 1, project_name: Maiara-Mayavant, store_name: , domain: , url: , niche: , logo: , mined_urls: , contact_email: , social_media_links: , status: ativo, description_y: , project_created_at: 2024-02-19 02:23:17.387, estimated_deadline:\n",
      "\n",
      "stage_id: 1, project_name: Maiara-Mayavant, store_name: , domain: , url: , niche: , logo: , mined_urls: , contact_email: , social_media_links: , status: ativo, description_y: , project_created_at: 2024-02-19 02:23:17.387, estimated_deadline:\u001b[00m\n",
      "\n",
      "\n",
      "\u001b[1m\u001b[95m# Agent:\u001b[00m \u001b[1m\u001b[92mCSV Reader\u001b[00m\n",
      "\u001b[95m## Thought:\u001b[00m \u001b[92mThought: Com base na observação, posso ver que o projeto \"Maiara-Mayavant\" está ativo e foi criado em 19 de Fevereiro de 2024. No entanto, não tenho informações suficientes para identificar o progresso do projeto em relação às etapas, não vejo o cumprimento do prazo e a satisfação do cliente. Preciso fazer buscas mais específicas para cada etapa do projeto.\u001b[00m\n",
      "\u001b[95m## Using tool:\u001b[00m \u001b[92mSearch a txt's content\u001b[00m\n",
      "\u001b[95m## Tool Input:\u001b[00m \u001b[92m\n",
      "\"{\\\"search_query\\\": \\\"Maiara-Mayavant\\\"}\"\u001b[00m\n",
      "\u001b[95m## Tool Output:\u001b[00m \u001b[92m\n",
      "Relevant Content:\n",
      "Maiara-Mayavant, store_name: , domain: , url: , niche: , logo: , mined_urls: , contact_email: , social_media_links: , status: ativo, description_y: , project_created_at: 2024-02-19 02:23:17.387, estimated_deadline:\n",
      "\n",
      "project_name: Maiara-Mayavant, store_name: , domain: , url: , niche: , logo: , mined_urls: , contact_email: , social_media_links: , status: ativo, description_y: , project_created_at: 2024-02-19 02:23:17.387, estimated_deadline:\n",
      "\n",
      "Maiara-Mayavant, project_id: 2, package_name: Pacote Global Dois Em Um, package_description: Pacote Global Dois Em Um, stage_id: 1, project_name: Maiara-Mayavant, store_name: , domain: , url: , niche: , logo: , mined_urls: , contact_email: , social_media_links: , status: ativo, description_y: ,\u001b[00m\n",
      "\n",
      "\n",
      "\u001b[1m\u001b[95m# Agent:\u001b[00m \u001b[1m\u001b[92mCSV Reader\u001b[00m\n",
      "\u001b[95m## Thought:\u001b[00m \u001b[92mThought: Ainda não tenho informações suficientes sobre as etapas do projeto \"Maiara-Mayavant\". Preciso pesquisar mais especificamente sobre cada etapa.\u001b[00m\n",
      "\u001b[95m## Using tool:\u001b[00m \u001b[92mSearch a txt's content\u001b[00m\n",
      "\u001b[95m## Tool Input:\u001b[00m \u001b[92m\n",
      "\"{\\\"search_query\\\": \\\"Etapa 01\\\"}\"\u001b[00m\n",
      "\u001b[95m## Tool Output:\u001b[00m \u001b[92m\n",
      "Relevant Content:\n",
      "Pacote Global Dois Em Um, stage_id: 1, project_name: Maiara-Mayavant, store_name: , domain: , url: , niche: , logo: , mined_urls: , contact_email: , social_media_links: , status: ativo, description_y: , project_created_at: 2024-02-19 02:23:17.387, estimated_deadline:\n",
      "\n",
      "Dois Em Um, stage_id: 1, project_name: Maiara-Mayavant, store_name: , domain: , url: , niche: , logo: , mined_urls: , contact_email: , social_media_links: , status: ativo, description_y: , project_created_at: 2024-02-19 02:23:17.387, estimated_deadline:\n",
      "\n",
      "package_description: Pacote Global Dois Em Um, stage_id: 1, project_name: Maiara-Mayavant, store_name: , domain: , url: , niche: , logo: , mined_urls: , contact_email: , social_media_links: , status: ativo, description_y: , project_created_at: 2024-02-19 02:23:17.387, estimated_deadline:\n",
      "\n",
      "\n",
      "You ONLY have access to the following tools, and should NEVER make up tools that are not listed here:\n",
      "\n",
      "Tool Name: Search a txt's content(search_query: str, **kwargs: Any) -> Any\n",
      "Tool Description: Search a txt's content(search_query: 'string') - A tool that can be used to semantic search a query the conversas/output.txt txt's content. search_query: 'Mandatory search query you want to use to search the txt's content'\n",
      "Tool Arguments: {'search_query': {'description': \"Mandatory search query you want to use to search the txt's content\", 'title': 'Search Query', 'type': 'string'}}\n",
      "\n",
      "Use the following format:\n",
      "\n",
      "Thought: you should always think about what to do\n",
      "Action: the action to take, only one name of [Search a txt's content], just the name, exactly as it's written.\n",
      "Action Input: the input to the action, just a simple python dictionary, enclosed in curly braces, using \" to wrap keys and values.\n",
      "Observation: the result of the action\n",
      "\n",
      "Once all necessary information is gathered:\n",
      "\n",
      "Thought: I now know the final answer\n",
      "Final Answer: the final answer to the original input question\n",
      "\u001b[00m\n",
      "\n",
      "\n",
      "\u001b[1m\u001b[95m# Agent:\u001b[00m \u001b[1m\u001b[92mCSV Reader\u001b[00m\n",
      "\u001b[95m## Thought:\u001b[00m \u001b[92mThought: Apesar de ter buscado as informações relativas à \"Etapa 01\", ainda não consegui extrair informações suficientes sobre as atividades realizadas nessa etapa. Vou precisar buscar por palavras-chave mais específicas relacionadas à \"Etapa 01\", como \"apresentação do atendimento\", \"definição de nicho\", \"criação de logo\" entre outros.\u001b[00m\n",
      "\u001b[95m## Using tool:\u001b[00m \u001b[92mSearch a txt's content\u001b[00m\n",
      "\u001b[95m## Tool Input:\u001b[00m \u001b[92m\n",
      "\"{\\\"search_query\\\": \\\"apresenta\\\\u00e7\\\\u00e3o do atendimento\\\"}\"\u001b[00m\n",
      "\u001b[95m## Tool Output:\u001b[00m \u001b[92m\n",
      "Relevant Content:\n",
      "024509451509359969@g.us, sender_id: 5558980748460, push_name: Luiza Goodds - Central de atendimento, message_type: texto, message_content: Nossa equipe de desenvolvimento está finalizando o layout da loja e gostaríamos de agendar a call de apresentação 🤩 Ma, você teria disponibilidade amanhã às\n",
      "\n",
      "024509451509359969@g.us, sender_id: 5558980748460, push_name: Luiza Goodds - Central de atendimento, message_type: texto, message_content: Opaa vamos lá, agora no início do projeto a gente vai marcar uma call, para alinharmos certinho com relação a criação do logo, e do layout das lojas 😄,\n",
      "\n",
      "024509451509359969@g.us, sender_id: 5558980748460, push_name: Luiza Goodds - Central de atendimento, message_type: texto, message_content: A Call é amanhã às 14:00, lembra? Conseguimos encaixar você aqui em um horário mais cedo, media_url: , base64_data: , reaction: , latitude: , longitude: ,\u001b[00m\n",
      "\n",
      "\n",
      "\u001b[1m\u001b[95m# Agent:\u001b[00m \u001b[1m\u001b[92mCSV Reader\u001b[00m\n",
      "\u001b[95m## Thought:\u001b[00m \u001b[92mThought: As observações mostram que houve a apresentação do atendimento e a equipe de atendimento se comunicou com o cliente para agendar uma apresentação do projeto. Isso indica que a primeira parte da \"Etapa 01\" foi cumprida. Agora, preciso verificar se as outras partes desta etapa, como \"definição de nicho\", \"criação de logo\" e outros, foram concluídas.\u001b[00m\n",
      "\u001b[95m## Using tool:\u001b[00m \u001b[92mSearch a txt's content\u001b[00m\n",
      "\u001b[95m## Tool Input:\u001b[00m \u001b[92m\n",
      "\"{\\\"search_query\\\": \\\"defini\\\\u00e7\\\\u00e3o de nicho\\\"}\"\u001b[00m\n",
      "\u001b[95m## Tool Output:\u001b[00m \u001b[92m\n",
      "Relevant Content:\n",
      "niche: , logo: , mined_urls: , contact_email: , social_media_links: , status: ativo, description_y: , project_created_at: 2024-02-19 02:23:17.387, estimated_deadline:\n",
      "\n",
      "domain: , url: , niche: , logo: , mined_urls: , contact_email: , social_media_links: , status: ativo, description_y: , project_created_at: 2024-02-19 02:23:17.387, estimated_deadline:\n",
      "\n",
      "bebê, assim conseguimos colocar os dois nichos, mas sem destoar <Mensagem editada>, media_url: , base64_data: , reaction: , latitude: , longitude: , sequence_number: , display_name: , vcard: , poll_data: , source: , reaction_message_id: , quoted_message: , data: 2024-02-19, group_name:\u001b[00m\n",
      "\n",
      "\n",
      "\u001b[1m\u001b[95m# Agent:\u001b[00m \u001b[1m\u001b[92mCSV Reader\u001b[00m\n",
      "\u001b[95m## Thought:\u001b[00m \u001b[92mThought: As observações mostram que houve uma discussão sobre a definição de nicho. Parece que o cliente estava considerando dois nichos e foi sugerido pela equipe de atendimento que ambos fossem incluídos. Isso indica que a parte \"definição de nicho\" da \"Etapa 01\" foi cumprida. Agora, preciso verificar se as outras partes desta etapa, como \"criação de logo\", foram concluídas.\u001b[00m\n",
      "\u001b[95m## Using tool:\u001b[00m \u001b[92mSearch a txt's content\u001b[00m\n",
      "\u001b[95m## Tool Input:\u001b[00m \u001b[92m\n",
      "\"{\\\"search_query\\\": \\\"cria\\\\u00e7\\\\u00e3o de logo\\\"}\"\u001b[00m\n",
      "\u001b[95m## Tool Output:\u001b[00m \u001b[92m\n",
      "Relevant Content:\n",
      "024509451509359969@g.us, sender_id: 5558980748460, push_name: Luiza Goodds - Central de atendimento, message_type: texto, message_content: Colocamos no logo essas cores mais vibrantes, adicionamos também o ícone de uma sacolinha em dois modelos, media_url: , base64_data: , reaction: , latitude: ,\n",
      "\n",
      "024509451509359969@g.us, sender_id: 5558980748460, push_name: Luiza Goodds - Central de atendimento, message_type: texto, message_content: Opaa vamos lá, agora no início do projeto a gente vai marcar uma call, para alinharmos certinho com relação a criação do logo, e do layout das lojas 😄,\n",
      "\n",
      "024509451509359969@g.us, sender_id: 5558980748460, push_name: Luiza Goodds - Central de atendimento, message_type: texto, message_content: Agora entramos na etapa de criação do layout da loja, essa fase será concluída em torno de 5 dias úteis, e assim que finalizarmos, a equipe marca a call de\n",
      "\n",
      "\n",
      "You ONLY have access to the following tools, and should NEVER make up tools that are not listed here:\n",
      "\n",
      "Tool Name: Search a txt's content(search_query: str, **kwargs: Any) -> Any\n",
      "Tool Description: Search a txt's content(search_query: 'string') - A tool that can be used to semantic search a query the conversas/output.txt txt's content. search_query: 'Mandatory search query you want to use to search the txt's content'\n",
      "Tool Arguments: {'search_query': {'description': \"Mandatory search query you want to use to search the txt's content\", 'title': 'Search Query', 'type': 'string'}}\n",
      "\n",
      "Use the following format:\n",
      "\n",
      "Thought: you should always think about what to do\n",
      "Action: the action to take, only one name of [Search a txt's content], just the name, exactly as it's written.\n",
      "Action Input: the input to the action, just a simple python dictionary, enclosed in curly braces, using \" to wrap keys and values.\n",
      "Observation: the result of the action\n",
      "\n",
      "Once all necessary information is gathered:\n",
      "\n",
      "Thought: I now know the final answer\n",
      "Final Answer: the final answer to the original input question\n",
      "\u001b[00m\n",
      "\u001b[91m Error parsing LLM output, agent will retry: I did it wrong. Invalid Format: I missed the 'Action:' after 'Thought:'. I will do right next, and don't use a tool I have already used.\n",
      "\n",
      "If you don't need to use any more tools, you must give your best complete final answer, make sure it satisfy the expect criteria, use the EXACT format below:\n",
      "\n",
      "Thought: I now can give a great answer\n",
      "Final Answer: my best complete final answer to the task.\n",
      "\n",
      "\u001b[00m\n",
      "\u001b[91m Error parsing LLM output, agent will retry: I did it wrong. Invalid Format: I missed the 'Action:' after 'Thought:'. I will do right next, and don't use a tool I have already used.\n",
      "\n",
      "If you don't need to use any more tools, you must give your best complete final answer, make sure it satisfy the expect criteria, use the EXACT format below:\n",
      "\n",
      "Thought: I now can give a great answer\n",
      "Final Answer: my best complete final answer to the task.\n",
      "\n",
      "\u001b[00m\n",
      "\n",
      "\n",
      "\u001b[1m\u001b[95m# Agent:\u001b[00m \u001b[1m\u001b[92mCSV Reader\u001b[00m\n",
      "\u001b[95m## Final Answer:\u001b[00m \u001b[92m\n",
      "The project \"Maiara-Mayavant\" is in Stage 1. It is part of the \"Pacote Global Dois Em Um\" package and was created on February 19, 2024. There has been communication with the client regarding defining a niche and creating a logo. A call has been scheduled to finalize these details and align on the store layout. Although the project is in progress, additional details such as the store name, domain, URL, mined URLs, contact email, and social media links are not available currently. The project is on track but it's necessary to monitor the upcoming stages carefully to ensure compliance with the schedule and client satisfaction.\u001b[00m\n",
      "\n",
      "\n",
      "\u001b[1m\u001b[95m# Agent:\u001b[00m \u001b[1m\u001b[92mRevisor do relatório\u001b[00m\n",
      "\u001b[95m## Task:\u001b[00m \u001b[92mLeia o CSV e retorne um relatório com as solicitações definidas em <solicitacoes> usando o modelo definido em <template>. <solicitacoes>\n",
      "1. OBJETIVOS - Analise o histórico de conversas no whatsapp com base em <etapas></etapas> do projeto.\n",
      "\n",
      "2. GAP - Identificação de possíveis GAPs no relacionamento com o cliente.\n",
      "\n",
      "3. METODOLOGIA - Resumir o que ocorreu, analisar sentimentos, identificar gaps, propor scripts e melhorias no atendimento.\n",
      "\n",
      "5. RESULTADOS - Identificar cronograma e cumprimento de prazos, bem como a satisfação do cliente.\n",
      "\n",
      "<etapas>\n",
      "Projeto iniciado em: 2024-10-04\n",
      "Estimativa de término: 2024-11-15 00:00:00\n",
      "\n",
      "# Etapa 01 - Prazo: 2 dias\n",
      "\n",
      "1. Apresentação do atendimento;\n",
      "2. Envio do cronograma com prazos;\n",
      "3. Definição de nicho:\n",
      "    3.1. indicar o uso de apenas um ou nichos que se relacionem entre si;\n",
      "    2.2. caso cliente não tenha nicho em mente, indicar um.\n",
      "4. Definir nome;\n",
      "5. Registrar dimínio;\n",
      "6. Referências de Criação de Logo;\n",
      "    6.1 Identificar se cliente possui referências;\n",
      "    6.2 Enviar referências;\n",
      "    6.3 Definir paleta de cores;\n",
      "7. Solicitar a equipe de desenvolvimento a criação de logo;\n",
      "8. Solicitar ao cliente credenciais de acesso às plataformas a serem integradas:\n",
      "    Exemplos: aliexpress, appmax, hostinger, facebookt, instagram, yampi, dsers, plataforma de e-comerce;\n",
      "    - caso tenha domínio registrado, acesso à plataforma de registro;\n",
      "\n",
      "# Etapa 02 - Prazo: 2 dias\n",
      "\n",
      "1. Definir Categoria;\n",
      "2. Buscar e/ou informar referências para layout do e-commerce:\n",
      "    - Sugerir um de nossos templates: `https://gifthype.com.br/` e  `https://clothingoficial.com.br/`\n",
      "3. Escolha da plataforma de mineração:\n",
      "    Disponíveis: Dropi, Dslite, Dsers, Printful.\n",
      "4.Solicitar mineração de produtos baseados no segmento e plataforma à equipe de desenvolvimento;\n",
      "\n",
      "# Etapa 03 - Prazo: 6 dias\n",
      "\n",
      "1. Aprovação de logo, caso solicite reajuste: Prazo de 1 dia;\n",
      "2. Envio de produtos minderados - Prazo: 2 dias;\n",
      "3. Envio da precificação padrão utilizada:\n",
      "    - ( Valor do produto minerado + frete ) * Dólar(R$5,60) * 1,8\n",
      "4. Aprovação de produtos;\n",
      "5. Solicitar cadastro de produtos no e-commerce;\n",
      "6. Solicitar criação de loja:\n",
      "    - Requisitos:\n",
      "        - Referência de layout;\n",
      "        - Acessos das contas que serão integradas à loja\n",
      "        - Informações do briefing comercial\n",
      "        - Qualquer outra informação útil que possa agregar na criação do layout\n",
      "7. Solicitar desenvolvimento  de banners:\n",
      "    - Requisitos:\n",
      "        - Link da loja\n",
      "        - Referências para criação dos banners\n",
      "        - Qualquer outra informação útil que possa agregar na criação dos banners\n",
      "\n",
      "# Etapa 04 - Prazo: 1 dia\n",
      "\n",
      "1. Marcar call para apresentar o ecommerce;\n",
      "2. Confirmar call no Google Agenda;\n",
      "3. Definir produtos para campanhas de marketing:\n",
      "    - Caso não exista preferência de produtos pelo cliente, sugerir produtos para as campanhas;\n",
      "    - Solicitar criação de criativos.\n",
      "\n",
      "# Etapa 05 - Prazo: 2 dias após a call\n",
      "\n",
      "1. Transferência da loja para o cliente:\n",
      "    - Loja criada em ambiente de desenvolvimento deve ser transferida para uma conta configurada pelo cliente e ativada pelo mesmo.\n",
      "\n",
      "# Etapa 06 - Prazo: 4 dias úteis\n",
      "\n",
      "1. Aprovação de criativos:\n",
      "    Quando aprovado, informar marketing via \"Monday\" que já pode-se configurar contas de anúncio\n",
      "    - Requisitos:\n",
      "        - Contas de anúncio configuradas\n",
      "\n",
      "# Etapa 07 - Prazo: 4 dias úteis\n",
      "\n",
      "1. Lançar campanhas: \n",
      "    Depois de configurar as contas, o marketing enviará ao cliente um link para que ele adicione a forma de pagamento dos anúncios.\n",
      "2. Relatório de finalização do projeto\n",
      "\n",
      "# Etapa 08 - Dia 18 ao 30 dia \n",
      "\n",
      "1. Acompanhamento e otimização das campanhas, \n",
      "2. Envio de feedback semanal \n",
      "</etapas>\n",
      "</solicitacoes>\n",
      "\n",
      " <template>\n",
      "Relatório do Grupo: <grupo> - Etapa: <etapa>\n",
      "\n",
      "Dia: <dia>\n",
      "\n",
      "Prazo: <prazo>\n",
      "1. Objetivos: Objetivos da etapa\n",
      " \n",
      "2. Resumo do dia: Um resumo do que houve\n",
      "\n",
      "2. Análise de sentimento: Análise de sentimentos dos <clientes>\n",
      "\n",
      "3. GAPs: Os gaps identificados na relação com cliente, objetivos e etapas do projeto\n",
      "\n",
      "4. Pendências: As pendências do dia e da etapa\n",
      " \n",
      "5. Avaliações: Avaliações sobre o dia e etapa\n",
      "\n",
      "6. Proposta de melhorias\n",
      "\n",
      "</template>\n",
      "\u001b[00m\n",
      "\n",
      "\n",
      "\u001b[1m\u001b[95m# Agent:\u001b[00m \u001b[1m\u001b[92mRevisor do relatório\u001b[00m\n",
      "\u001b[95m## Final Answer:\u001b[00m \u001b[92m\n",
      "Relatório do Grupo: Pacote Global Dois Em Um - Etapa: Etapa 01\n",
      "\n",
      "Dia: 2024-02-19\n",
      "\n",
      "Prazo: 2 dias\n",
      "1. Objetivos: Apresentação do atendimento; Envio do cronograma com prazos; Definição de nicho; Definir nome; Registrar domínio; Referências de Criação de Logo; Solicitar a equipe de desenvolvimento a criação de logo; Solicitar ao cliente credenciais de acesso às plataformas a serem integradas.\n",
      "\n",
      "2. Resumo do dia: A comunicação com o cliente em relação à definição do nicho e à criação do logo foi estabelecida. Uma chamada foi agendada para finalizar esses detalhes e alinhar o layout da loja.\n",
      "\n",
      "2. Análise de sentimento: N/A - Não temos dados suficientes para realizar a análise de sentimentos.\n",
      "\n",
      "3. GAPs: O projeto está em andamento e no caminho certo. No entanto, há uma lacuna em relação a detalhes adicionais como o nome da loja, domínio, URL, URLs minerados, email de contato e links de mídia social.\n",
      "\n",
      "4. Pendências: É necessário definir o nome da loja, domínio, URL, URLs minerados, email de contato e links de mídia social. \n",
      "\n",
      "5. Avaliações: O projeto está em andamento e no caminho certo. No entanto, é necessário monitorar cuidadosamente as próximas etapas para garantir a conformidade com o cronograma e a satisfação do cliente.\n",
      "\n",
      "6. Proposta de melhorias: Melhorar a comunicação com o cliente para obter os detalhes necessários para avançar nas próximas etapas do projeto.\u001b[00m\n",
      "\n",
      "\n"
     ]
    }
   ],
   "source": [
    "# relator\n",
    "agent_relator = create_agent_relator(gpt,txt_tool)\n",
    "task_relator = relator_task(agent_relator)\n",
    "# revisor\n",
    "agent_revisor = create_agent_revisor(gpt)\n",
    "task_revisor = revisor_task(agent_revisor)\n",
    "\n",
    "crew = Crew(\n",
    "    agents=[agent_relator,agent_revisor],\n",
    "    tasks=[task_relator,task_revisor],\n",
    "    process=Process.sequential\n",
    ")\n",
    "\n",
    "ipt = {\n",
    "    \"solicitacoes\": solicitacoes,\n",
    "    \"template\": template,\n",
    "    \"restricoes\": restricoes,\n",
    "    \"controles\": controles,\n",
    "}\n",
    "\n",
    "results = crew.kickoff(inputs=ipt)"
   ]
  },
  {
   "cell_type": "code",
   "execution_count": null,
   "metadata": {},
   "outputs": [],
   "source": []
  },
  {
   "cell_type": "code",
   "execution_count": null,
   "metadata": {},
   "outputs": [],
   "source": []
  },
  {
   "cell_type": "code",
   "execution_count": null,
   "metadata": {},
   "outputs": [],
   "source": []
  },
  {
   "cell_type": "code",
   "execution_count": 75,
   "metadata": {},
   "outputs": [],
   "source": [
    "csv_folder = './'"
   ]
  },
  {
   "cell_type": "code",
   "execution_count": 76,
   "metadata": {},
   "outputs": [],
   "source": [
    "csv_files = [f for f in os.listdir(csv_folder) if f.endswith('.csv')]"
   ]
  },
  {
   "cell_type": "code",
   "execution_count": null,
   "metadata": {},
   "outputs": [],
   "source": [
    "csv_files"
   ]
  },
  {
   "cell_type": "code",
   "execution_count": null,
   "metadata": {},
   "outputs": [],
   "source": [
    "csv"
   ]
  },
  {
   "cell_type": "code",
   "execution_count": 79,
   "metadata": {},
   "outputs": [],
   "source": [
    "# lista ára armazenar resultados\n",
    "all_ralatorios = []"
   ]
  },
  {
   "cell_type": "code",
   "execution_count": null,
   "metadata": {},
   "outputs": [],
   "source": [
    "for csv_file_name in csv_files:\n",
    "    # gpt = ChatOpenAI(model=\"gpt-4\") # a mente do agente\n",
    "    # Definir a chave da API como variável de ambiente diretamente no script\n",
    "    os.environ['OPENAI_API_KEY'] = \"sk-dGwU-tTvhnrFog5R78lzLlP5FjaOOlWsz_Qbb4CdgoT3BlbkFJ_iRd_S5W91m7pOY9i8oT_E8wHZwgK2EiqMROjF0iIA\"\n",
    "\n",
    "    # Agora inicialize o gpt e as ferramentas normalmente\n",
    "    gpt = ChatOpenAI(model=\"gpt-4\")\n",
    "    csv = os.path.join(csv_folder, csv_file_name)\n",
    "    print(csv_file_name)\n",
    "    print(csv_folder)\n",
    "    print(csv)\n",
    "    csv_tool = CSVSearchTool(csv)\n",
    "    \n",
    "    \n",
    "    # relator\n",
    "    agent_relator = create_agent_relator(gpt,csv_tool)\n",
    "    task_relator = relator_task(agent_relator)\n",
    "    # revisor\n",
    "    agent_revisor = create_agent_revisor(gpt)\n",
    "    task_revisor = revisor_task(agent_revisor)\n",
    "    \n",
    "    crew = Crew(\n",
    "        agents=[agent_relator,agent_revisor],\n",
    "        tasks=[task_relator,task_revisor],\n",
    "        process=Process.sequential\n",
    "    )\n",
    "    \n",
    "    ipt = {\n",
    "        \"solicitacoes\": solicitacoes,\n",
    "        \"template\": template,\n",
    "        \"restricoes\": restricoes,\n",
    "        \"controles\": controles,\n",
    "    }\n",
    "    \n",
    "    results = crew.kickoff(inputs=ipt)\n",
    "    \n",
    "    # # Conectar ao banco de dados\n",
    "    # conn = psycopg2.connect(\n",
    "    #     dbname=banco_de_dados,\n",
    "    #     user=usuario,\n",
    "    #     password=senha,\n",
    "    #     host=host,\n",
    "    #     port=porta\n",
    "    # )\n",
    "\n",
    "    # # Criar um cursor para executar comandos\n",
    "    # cursor = conn.cursor()\n",
    "    \n",
    "    # # Definir a query de inserção\n",
    "    # insert_query = \"\"\"\n",
    "    # INSERT INTO reports (group_id, report_content)\n",
    "    # VALUES (%s, %s)\n",
    "    # \"\"\"\n",
    "\n",
    "    # try:\n",
    "    #     # Executar a query de inserção\n",
    "    #     cursor.execute(insert_query, (group_id, results))\n",
    "    #     print(f\"Linhas afetadas: {cursor.rowcount}\")  # Verifica quantas linhas foram afetadas\n",
    "\n",
    "    # except Exception as e:\n",
    "    #     print(f\"Erro ao inserir grupo: {e}\")\n",
    "\n",
    "    # # Commit para salvar as inserções\n",
    "    # conn.commit()\n",
    "\n",
    "    # # Fechar o cursor e a conexão\n",
    "    # cursor.close()\n",
    "    # conn.close()\n",
    "    \n",
    "    all_ralatorios.append(results)\n",
    "\n",
    "final_output = {\"relatorios\": all_ralatorios}\n",
    "\n",
    "now = datetime.now\n",
    "formatted_date = now.strftime(\"%d_%m_%Y\")\n",
    "\n",
    "file_name = f\"relatorios_{formatted_date}.txt\"\n",
    "\n",
    "with open(file_name, 'w') as file:\n",
    "    (final_output, file,)\n",
    "\n",
    "print(f\"Arquivo '{file_name}' foi criado com sucesso!\")\n",
    "\n"
   ]
  },
  {
   "cell_type": "code",
   "execution_count": null,
   "metadata": {},
   "outputs": [],
   "source": [
    "final_output"
   ]
  },
  {
   "cell_type": "code",
   "execution_count": null,
   "metadata": {},
   "outputs": [],
   "source": [
    "# Chame a função now() corretamente\n",
    "now = datetime.now()  # Adicionar parênteses para chamar a função\n",
    "\n",
    "# Agora você pode usar o método strftime no objeto datetime retornado por now()\n",
    "formatted_date = now.strftime(\"%d_%m_%Y\")\n",
    "\n",
    "file_name = f\"relatorios_{formatted_date}.txt\"\n",
    "\n",
    "with open(file_name, 'w') as file:\n",
    "    file.write(str(final_output))  # Corrigir a escrita para salvar o dicionário como string\n",
    "\n",
    "print(f\"Arquivo '{file_name}' foi criado com sucesso!\")\n"
   ]
  },
  {
   "cell_type": "code",
   "execution_count": null,
   "metadata": {},
   "outputs": [],
   "source": [
    "# Saida 2\n",
    "file_name2 = 'output.txt'\n",
    "\n",
    "with open(file_name2, 'w') as file:\n",
    "    for key, value in final_output.items():\n",
    "        file.write(f'{key}: {value}\\n')\n",
    "\n",
    "print(f\"Dados salvos em {file_name2}\")"
   ]
  }
 ],
 "metadata": {
  "kernelspec": {
   "display_name": "venv",
   "language": "python",
   "name": "python3"
  },
  "language_info": {
   "codemirror_mode": {
    "name": "ipython",
    "version": 3
   },
   "file_extension": ".py",
   "mimetype": "text/x-python",
   "name": "python",
   "nbconvert_exporter": "python",
   "pygments_lexer": "ipython3",
   "version": "3.10.12"
  }
 },
 "nbformat": 4,
 "nbformat_minor": 2
}
