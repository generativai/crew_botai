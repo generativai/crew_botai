{
 "cells": [
  {
   "cell_type": "code",
   "execution_count": 22,
   "metadata": {},
   "outputs": [],
   "source": [
    "import os\n",
    "from crewai import Agent, Task, Crew, Process\n",
    "from crewai_tools import CSVSearchTool\n",
    "from dotenv import load_dotenv\n",
    "from langchain_openai import ChatOpenAI\n",
    "from datetime import datetime"
   ]
  },
  {
   "cell_type": "code",
   "execution_count": 2,
   "metadata": {},
   "outputs": [],
   "source": [
    "load_dotenv()\n",
    "\n",
    "OPEN_AI_KEY = os.getenv(\"OPEN_AI_KEY\")\n",
    "\n",
    "csv_folder = r\"CSVs\""
   ]
  },
  {
   "cell_type": "code",
   "execution_count": 3,
   "metadata": {},
   "outputs": [],
   "source": [
    "etapas = \"\"\"\n",
    "<etapas>\\n\n",
    "Etapa 1 -\n",
    "Etapa 2 -\n",
    "Etapa 3 -\n",
    "Etapa 4 -\n",
    "Etapa 5 -\n",
    "Etapa 6 -\n",
    "Etapa 7 -\n",
    "Etapa 8 -\n",
    "Etapa 9 -\n",
    "</etapas>\\n\n",
    "\"\"\""
   ]
  },
  {
   "cell_type": "code",
   "execution_count": 4,
   "metadata": {},
   "outputs": [],
   "source": [
    "solicitacoes = \"\"\"\n",
    "<solicitacoes>\n",
    "1. OBJETIVOS - Identificação dos objetivos: Analise o histórico de conversas no whatsapp com base na <etapa> do projeto e resuma o que houve\\n\n",
    "2. GAP - Identificação do GAP:\\n\n",
    "3. METODOLOGIA - Extração Detahada da Metodologia de Trabalho: Identificação e Descrição da Metodologia:\\n\n",
    "4. DATASET - \\n\n",
    "5. RESULTADOS - \\n\n",
    "6. LIMITAÇÕES - \\n \n",
    "7. CONCLUSÃO - \\n\n",
    "8. FUTURO - \\n\n",
    "9. AVALIAÇÃO -\n",
    "</solicitacoes>\n",
    "\"\"\""
   ]
  },
  {
   "cell_type": "code",
   "execution_count": 5,
   "metadata": {},
   "outputs": [],
   "source": [
    "controles = \"\"\"\n",
    "<controles>\n",
    "NÍVEIS DE CONTROLE:\n",
    "1. Entonação: Formal\\n \n",
    "5. Foco: Você deve responder sempre com foco no objetivo da <etapa> buscando encontrar GAPs, atingir <metas> e cumprir <prazos>\\n\n",
    "6. Línga: Escreva sempre em português do Brasil, como brasileiros especialistas em gestão de negócios constumam escrever.\\n\n",
    "7. Controle de Sentimento: Neutro. Evite superlativos como: inovador, revolucionário, etc.\\n\n",
    "8. Nível de originalidade: 10, onde 1 é pouco original e 10 é muito original.\\n \n",
    "9. Nível de abstração: 1, onde 1 é muito concreto e 10 é muito abstrato e irreal.\\n\n",
    "10. Tempo Verbal: Escreva no presente.\n",
    "</controles>\n",
    "\"\"\""
   ]
  },
  {
   "cell_type": "code",
   "execution_count": 6,
   "metadata": {},
   "outputs": [],
   "source": [
    "restricoes = \"\"\"\n",
    "<restricoes>\n",
    "O QUE VOCÊ NÃO DEVE FAZER:\n",
    "1. \\n \n",
    "2. \\n\n",
    "3. \\n\n",
    "4. \\n\n",
    "5. \\n \n",
    "6. \n",
    "</restricoes>\n",
    "\"\"\""
   ]
  },
  {
   "cell_type": "code",
   "execution_count": 7,
   "metadata": {},
   "outputs": [],
   "source": [
    "# Modelo de relatório\n",
    "template = \"\"\"\n",
    "<template>\n",
    "Relatório do Grupo: <grupo> - Etapa: <etapa>\\n\n",
    "Dia: <dia>\\n\n",
    "Prazo: <prazo>\n",
    "1. Objetivos: Objetivos da etapa\\n \n",
    "2. Análise de sentimento: Análise de sentimentos dos <clientes>\\n\n",
    "3. GAPs: Os gaps identificados no atendimento e relação com cliente, nos objetivos e etapas do projeto\\n\n",
    "4. \\n\n",
    "5. Pendências: As pendências do dia e da etapa\\n \n",
    ". Avaliações: Avaliações sobre o dia e etapa\n",
    "</template>\n",
    "\"\"\""
   ]
  },
  {
   "cell_type": "code",
   "execution_count": 8,
   "metadata": {},
   "outputs": [],
   "source": [
    "def save_to_txt(file_name, file):\n",
    "    \"\"\"\n",
    "    Salva as saídas do agente em um arquivo .txt.\n",
    "\n",
    "    Parameters:\n",
    "    file_name (str): O nome do arquivo onde as saídas serão salvas.\n",
    "    goal (str): O objetivo do agente.\n",
    "    backstory (str): A história de fundo do agente.\n",
    "    \"\"\"\n",
    "    with open(file_name, 'w', encoding='utf-8') as f:\n",
    "        f.write(file)  # Grava apenas o objetivo do agente"
   ]
  },
  {
   "cell_type": "code",
   "execution_count": 9,
   "metadata": {},
   "outputs": [],
   "source": [
    "agent_relator_goal = (\n",
    "    \"Ler CSVs e extrair informações específicas conforme definido nas solicitações em <solicitacoes>. \"\n",
    "    f\"Gerar um relatório de acordo com o modelo especificado em <template>.\\n {solicitacoes} {template}\"\n",
    ")\n",
    "\n",
    "agent_relator_backstory = (\n",
    "    \"Você é um especialista nos processos de atendimento da Goods. \"\n",
    "    \"Sua missão é analisar as conversas entre a equipe de trabalho e os clientes e extrair informações, \"\n",
    "    \"identificar GAPs, entender o processo e as etapas do projeto, gerar insights e propor melhorias para alcançar, \"\n",
    "    \"além dos objetivos principais, a satisfação do cliente. \"\n",
    "    \"Sua função é fundamental para avaliar nosso trabalho e otimizar processos. \"\n",
    "    \"Ao responder as solicitações delimitadas por <solicitacoes></solicitacoes>, você deve levar em consideração as \"\n",
    "    \"definições de controle em <controle></controle> e as restrições em <restricoes></restricoes>.\\n\"\n",
    "    f\"{solicitacoes} {restricoes} {controles}\"\n",
    ")\n",
    "\n",
    "# Exibindo os resultados\n",
    "# save_to_txt('agent_relator_goal',agent_relator_goal)\n",
    "save_to_txt('agent_relator_backstory',agent_relator_backstory)"
   ]
  },
  {
   "cell_type": "code",
   "execution_count": 10,
   "metadata": {},
   "outputs": [],
   "source": [
    "def create_agent_relator(llm, tool):\n",
    "    return Agent(\n",
    "        role=\"CSV Reader\",\n",
    "        goal=agent_relator_goal,\n",
    "        backstory=agent_relator_backstory,\n",
    "        tools=[tool],\n",
    "        verbose=True,\n",
    "        memory=False,\n",
    "        llm=llm\n",
    "    )"
   ]
  },
  {
   "cell_type": "code",
   "execution_count": 11,
   "metadata": {},
   "outputs": [],
   "source": [
    "agent_revisor_goal = (\n",
    "    \"Leia os dados extraídos pelo Agente Relator e verifique se o relatório foi produzido \"\n",
    "    \"de acordo com o template proposto em <template>, com os dados solicitados em <solicitacoes>. \"\n",
    "    \"Como resultado do seu trabalho, você deve retornar um relatório revisado no mesmo formato do \"\n",
    "    f\"template proposto. {solicitacoes} {template}\"\n",
    ")\n",
    "\n",
    "agent_revisor_backstory = (\n",
    "    \"Você é um especialista em revisão de relatórios. \"\n",
    "    \"Sua função é garantir que os dados extraídos reflitam as solicitações definidas em <solicitacoes> \"\n",
    "    \"e estejam formatados de acordo com o template proposto em <template>. \"\n",
    "    \"Sua atenção aos detalhes assegura que os resultados finais sejam precisos \"\n",
    "    f\"conforme as expectativas. {solicitacoes} {template}\"\n",
    ")\n",
    "\n",
    "# Exibindo os resultados\n",
    "# save_to_txt('agent_revisor_goal',agent_revisor_goal)\n",
    "save_to_txt('agent_revisor_backstory',agent_revisor_backstory)"
   ]
  },
  {
   "cell_type": "code",
   "execution_count": 12,
   "metadata": {},
   "outputs": [],
   "source": [
    "def create_agent_revisor(llm):\n",
    "    return Agent(\n",
    "        role=\"Revisor do relatório\",\n",
    "        goal=agent_revisor_goal,\n",
    "        backstory=agent_revisor_backstory,\n",
    "        verbose=True,\n",
    "        memory=False,\n",
    "        llm=llm\n",
    "    )"
   ]
  },
  {
   "cell_type": "code",
   "execution_count": 13,
   "metadata": {},
   "outputs": [],
   "source": [
    "relator_task_description = (\n",
    "    \"Leia o CSV e retorne um relatório com as solicitações definidas em <solicitacoes> \"\n",
    "    \"usando o modelo definido em <template>. \"\n",
    "    f\"{solicitacoes} {template}\"\n",
    ")\n",
    "\n",
    "relator_task_expeted_output = (\n",
    "    \"Relatório com as solicitações definidas em <solicitacoes>\"\n",
    "    \"usando o modelo definido em <template>. \"\n",
    "    f\"{solicitacoes} {template}\"\n",
    ")"
   ]
  },
  {
   "cell_type": "code",
   "execution_count": 14,
   "metadata": {},
   "outputs": [],
   "source": [
    "def relator_task(agent_relator):\n",
    "    return Task(\n",
    "        description=relator_task_description,\n",
    "        expeted_output=relator_task_expeted_output,\n",
    "        agent=agent_relator\n",
    "    )"
   ]
  },
  {
   "cell_type": "code",
   "execution_count": 15,
   "metadata": {},
   "outputs": [],
   "source": [
    "revisor_task_description = (\n",
    "    \"Revise o relatório produzido pelo agente revisor para garantir que ele esteja de acordo com o template definido em <template> \" \n",
    "    \" e contenha todas as informações solicitadas em <solicitacoes> \"\n",
    "    f\"{solicitacoes} {template}\"\n",
    ")\n",
    "revisor_task_expeted_output = (\n",
    "    \"Relatório revisado que esteja de acordo com o template definido em <template>\"\n",
    "    \" e contenha todas as informações solicitações em <solicitacoes>\"\n",
    "    f\"{solicitacoes} {template}\"\n",
    ")"
   ]
  },
  {
   "cell_type": "code",
   "execution_count": 16,
   "metadata": {},
   "outputs": [],
   "source": [
    "def revisor_task(agent_revisor):\n",
    "    return Task(\n",
    "        description=relator_task_description,\n",
    "        expeted_output=relator_task_expeted_output,\n",
    "        agent=agent_revisor\n",
    "    )"
   ]
  },
  {
   "cell_type": "code",
   "execution_count": 19,
   "metadata": {},
   "outputs": [],
   "source": [
    "csv_files = [f for f in os.listdir(csv_folder) if f.endswith('.csv')]"
   ]
  },
  {
   "cell_type": "code",
   "execution_count": 20,
   "metadata": {},
   "outputs": [
    {
     "data": {
      "text/plain": [
       "['test.csv']"
      ]
     },
     "execution_count": 20,
     "metadata": {},
     "output_type": "execute_result"
    }
   ],
   "source": [
    "csv_files"
   ]
  },
  {
   "cell_type": "code",
   "execution_count": 21,
   "metadata": {},
   "outputs": [],
   "source": [
    "# lista ára armazenar resultados\n",
    "all_ralatorios = []"
   ]
  },
  {
   "cell_type": "code",
   "execution_count": null,
   "metadata": {},
   "outputs": [],
   "source": [
    "for csv_file_name in csv_files:\n",
    "    gpt = ChatOpenAI(model=\"gpt-4\") # a mente do agente\n",
    "    csv = os.path.join(csv_folder, csv_file_name)\n",
    "    csv_tool = CSVSearchTool(csv)\n",
    "    # relator\n",
    "    agent_relator = create_agent_relator(gpt,csv_tool)\n",
    "    task_relator = relator_task(agent_relator)\n",
    "    # revisor\n",
    "    agent_revisor = create_agent_revisor(gpt)\n",
    "    task_revisor = revisor_task(agent_revisor)\n",
    "    \n",
    "    crew = Crew(\n",
    "        agents=[agent_relator,agent_revisor],\n",
    "        tasks=[task_relator,task_revisor],\n",
    "        process=Process.sequential\n",
    "    )\n",
    "    \n",
    "    ipt = {\n",
    "        \"solicitacoes\": solicitacoes,\n",
    "        \"template\": template,\n",
    "        \"restricoes\": restricoes,\n",
    "        \"controles\": controles,\n",
    "    }\n",
    "    \n",
    "    results = crew.kickoff(inputs=ipt)\n",
    "    \n",
    "    #TODO armazenar resultados no DB\n",
    "    \n",
    "    all_ralatorios.append(results)\n",
    "\n",
    "final_output = {\"relatorios\": all_ralatorios}\n",
    "\n",
    "now = datetime.now\n",
    "formatted_date = now.strftime(\"%d_%m_%Y\")\n",
    "\n",
    "file_name = f\"relatorios_{formatted_date}.txt\"\n",
    "\n",
    "with open(file_name, 'w') as file:\n",
    "    (final_output, file,)\n",
    "\n",
    "print(f\"Arquivo '{file_name}' foi criado com sucesso!\")\n",
    "\n",
    "# Saida 2\n",
    "file_name2 = 'output.txt'\n",
    "\n",
    "with open(file_name2, 'w') as file:\n",
    "    for key, value in final_output.items():\n",
    "        file.write(f'{key}: {value}\\n')\n",
    "\n",
    "print(f\"Dados salvos em {file_name2}\")"
   ]
  }
 ],
 "metadata": {
  "kernelspec": {
   "display_name": "venv",
   "language": "python",
   "name": "python3"
  },
  "language_info": {
   "codemirror_mode": {
    "name": "ipython",
    "version": 3
   },
   "file_extension": ".py",
   "mimetype": "text/x-python",
   "name": "python",
   "nbconvert_exporter": "python",
   "pygments_lexer": "ipython3",
   "version": "3.10.12"
  }
 },
 "nbformat": 4,
 "nbformat_minor": 2
}
